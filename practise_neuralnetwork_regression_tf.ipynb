{
  "nbformat": 4,
  "nbformat_minor": 0,
  "metadata": {
    "colab": {
      "provenance": [],
      "authorship_tag": "ABX9TyNGaZ3aW1sOOH7cYzYzQGOq",
      "include_colab_link": true
    },
    "kernelspec": {
      "name": "python3",
      "display_name": "Python 3"
    },
    "language_info": {
      "name": "python"
    }
  },
  "cells": [
    {
      "cell_type": "markdown",
      "metadata": {
        "id": "view-in-github",
        "colab_type": "text"
      },
      "source": [
        "<a href=\"https://colab.research.google.com/github/leynessa/data-science-foundations-python-scientific-stack-3084641/blob/main/practise_neuralnetwork_regression_tf.ipynb\" target=\"_parent\"><img src=\"https://colab.research.google.com/assets/colab-badge.svg\" alt=\"Open In Colab\"/></a>"
      ]
    },
    {
      "cell_type": "markdown",
      "source": [
        "neural network with tensorflow"
      ],
      "metadata": {
        "id": "HuPgwP-s5WmK"
      }
    },
    {
      "cell_type": "code",
      "source": [
        "#import TF\n",
        "import tensorflow as tf\n",
        "print(tf.__version__)"
      ],
      "metadata": {
        "colab": {
          "base_uri": "https://localhost:8080/"
        },
        "id": "E-47BayN5oXc",
        "outputId": "30e859b3-d63e-492c-cb25-246282464925"
      },
      "execution_count": 9,
      "outputs": [
        {
          "output_type": "stream",
          "name": "stdout",
          "text": [
            "2.11.0\n"
          ]
        }
      ]
    },
    {
      "cell_type": "code",
      "source": [
        "#create data to view and fit\n",
        "import numpy as np\n",
        "import matplotlib.pyplot as plt\n",
        "\n",
        "# Create features (using tensors)\n",
        "X = tf.constant([-7.0, -4.0, -1.0, 2.0, 5.0, 8.0, 11.0, 14.0])\n",
        "\n",
        "# Create labels (using tensors)\n",
        "y = tf.constant([3.0, 6.0, 9.0, 12.0, 15.0, 18.0, 21.0, 24.0])\n",
        "\n",
        "# Visualize it\n",
        "plt.scatter(X, y);"
      ],
      "metadata": {
        "colab": {
          "base_uri": "https://localhost:8080/",
          "height": 435
        },
        "id": "8BWp7R7I56RX",
        "outputId": "919935f1-9fe4-416d-f796-7d36344b96f4"
      },
      "execution_count": 10,
      "outputs": [
        {
          "output_type": "display_data",
          "data": {
            "text/plain": [
              "<Figure size 640x480 with 1 Axes>"
            ],
            "image/png": "[encoded data removed]"
          },
          "metadata": {}
        }
      ]
    },
    {
      "cell_type": "code",
      "source": [
        "# Take a single example of X\n",
        "input_shape = X[0].shape \n",
        "\n",
        "# Take a single example of y\n",
        "output_shape = y[0].shape\n",
        "\n",
        "input_shape, output_shape # these are both scalars (no shape)"
      ],
      "metadata": {
        "colab": {
          "base_uri": "https://localhost:8080/"
        },
        "id": "L9XopAc5Ks5h",
        "outputId": "ee8660a8-c91b-4aeb-e815-d1b4d46951b2"
      },
      "execution_count": 11,
      "outputs": [
        {
          "output_type": "execute_result",
          "data": {
            "text/plain": [
              "(TensorShape([]), TensorShape([]))"
            ]
          },
          "metadata": {},
          "execution_count": 11
        }
      ]
    },
    {
      "cell_type": "code",
      "source": [
        "# Let's take a look at the single examples invidually\n",
        "X[0], y[0]\n",
        "     "
      ],
      "metadata": {
        "colab": {
          "base_uri": "https://localhost:8080/"
        },
        "id": "Bzb5g_b_LJs1",
        "outputId": "97b9cd12-6a0a-4769-8e39-640dc5559d13"
      },
      "execution_count": 12,
      "outputs": [
        {
          "output_type": "execute_result",
          "data": {
            "text/plain": [
              "(<tf.Tensor: shape=(), dtype=float32, numpy=-7.0>,\n",
              " <tf.Tensor: shape=(), dtype=float32, numpy=3.0>)"
            ]
          },
          "metadata": {},
          "execution_count": 12
        }
      ]
    },
    {
      "cell_type": "markdown",
      "source": [
        "steps for modelling with tensor flow\n",
        "\n",
        "1. create a model- define the input and output layers, as well as the hiddn layers of a deep learning model\n",
        "2 compiling a model- \n",
        "  define tje *loss function*(this tells our model how wrong it id )\n",
        "  the* optimizer-* which tells the model how to improve the patterns it`s learning\n",
        "  *evaluateion matrics* - what we use to interpret the performance of the model\n",
        "\n",
        "3. fitting the model- letting our model find patterns  btwn x and y(features and labels )\n"
      ],
      "metadata": {
        "id": "O7U52lAMEBCR"
      }
    },
    {
      "cell_type": "markdown",
      "source": [
        "##creating a model using the sequential APi"
      ],
      "metadata": {
        "id": "u8lu3yQdFnPl"
      }
    },
    {
      "cell_type": "code",
      "source": [
        "tf.random.set_seed(42)\n",
        "model= tf.keras.Sequential([\n",
        "    tf.keras.layers.Dense(1)\n",
        "])\n"
      ],
      "metadata": {
        "id": "OE1jfFDM7gLq"
      },
      "execution_count": 13,
      "outputs": []
    },
    {
      "cell_type": "markdown",
      "source": [
        "Compile the model"
      ],
      "metadata": {
        "id": "UMZMVf1WGSBF"
      }
    },
    {
      "cell_type": "code",
      "source": [
        "model.compile(loss=tf.keras.losses.mae, #mean absolute error, how wrong our prediction\n",
        "              optimizer=tf.keras.optimizers.SGD(), #stochastic gradient  descent\n",
        "              metrics =['mae'])\n",
        "model.fit(tf.expand_dims(X, axis=-1), y, epochs=5)"
      ],
      "metadata": {
        "colab": {
          "base_uri": "https://localhost:8080/"
        },
        "id": "iqVItW4qGVtT",
        "outputId": "f6de85d2-629e-44d1-9d17-c4f0bf4de4e8"
      },
      "execution_count": 14,
      "outputs": [
        {
          "output_type": "stream",
          "name": "stdout",
          "text": [
            "Epoch 1/5\n",
            "1/1 [==============================] - 0s 450ms/step - loss: 20.1203 - mae: 20.1203\n",
            "Epoch 2/5\n",
            "1/1 [==============================] - 0s 13ms/step - loss: 19.8390 - mae: 19.8390\n",
            "Epoch 3/5\n",
            "1/1 [==============================] - 0s 12ms/step - loss: 19.5578 - mae: 19.5578\n",
            "Epoch 4/5\n",
            "1/1 [==============================] - 0s 10ms/step - loss: 19.2765 - mae: 19.2765\n",
            "Epoch 5/5\n",
            "1/1 [==============================] - 0s 25ms/step - loss: 18.9952 - mae: 18.9952\n"
          ]
        },
        {
          "output_type": "execute_result",
          "data": {
            "text/plain": [
              "<keras.callbacks.History at 0x7f89f89946a0>"
            ]
          },
          "metadata": {},
          "execution_count": 14
        }
      ]
    },
    {
      "cell_type": "markdown",
      "source": [
        "fit the model"
      ],
      "metadata": {
        "id": "Adjck97bHZox"
      }
    },
    {
      "cell_type": "code",
      "source": [
        "model.predict([17.0])"
      ],
      "metadata": {
        "colab": {
          "base_uri": "https://localhost:8080/"
        },
        "id": "XHb3qVZVMX-t",
        "outputId": "8386e466-5e81-472a-ddea-04f76d113bc6"
      },
      "execution_count": 15,
      "outputs": [
        {
          "output_type": "stream",
          "name": "stdout",
          "text": [
            "1/1 [==============================] - 0s 82ms/step\n"
          ]
        },
        {
          "output_type": "execute_result",
          "data": {
            "text/plain": [
              "array([[-19.36557]], dtype=float32)"
            ]
          },
          "metadata": {},
          "execution_count": 15
        }
      ]
    },
    {
      "cell_type": "code",
      "source": [
        "#improving a model quick steps \n",
        "## creating- add more layers, change activation function\n",
        "# compilingchange optimization function, change learning rate\n",
        "#fitting a model- fit with more epochs"
      ],
      "metadata": {
        "id": "vfSlR5IGMYzX"
      },
      "execution_count": 16,
      "outputs": []
    },
    {
      "cell_type": "code",
      "source": [
        "model.compile(loss=tf.keras.losses.mae, #mean absolute error, how wrong our prediction\n",
        "              optimizer=tf.keras.optimizers.SGD(), #stochastic gradient  descent\n",
        "              metrics =['mae'])\n",
        "model.fit(tf.expand_dims(X, axis=-1), y, epochs=150)\n",
        "\n"
      ],
      "metadata": {
        "colab": {
          "base_uri": "https://localhost:8080/"
        },
        "id": "qmj6itSfrjkk",
        "outputId": "8736fa5c-0b8b-4952-b6ac-9699114d330e"
      },
      "execution_count": 17,
      "outputs": [
        {
          "output_type": "stream",
          "name": "stdout",
          "text": [
            "Epoch 1/150\n",
            "1/1 [==============================] - 1s 931ms/step - loss: 18.7140 - mae: 18.7140\n",
            "Epoch 2/150\n",
            "1/1 [==============================] - 0s 21ms/step - loss: 18.4327 - mae: 18.4327\n",
            "Epoch 3/150\n",
            "1/1 [==============================] - 0s 20ms/step - loss: 18.1515 - mae: 18.1515\n",
            "Epoch 4/150\n",
            "1/1 [==============================] - 0s 16ms/step - loss: 17.8702 - mae: 17.8702\n",
            "Epoch 5/150\n",
            "1/1 [==============================] - 0s 37ms/step - loss: 17.5890 - mae: 17.5890\n",
            "Epoch 6/150\n",
            "1/1 [==============================] - 0s 20ms/step - loss: 17.3078 - mae: 17.3078\n",
            "Epoch 7/150\n",
            "1/1 [==============================] - 0s 25ms/step - loss: 17.0265 - mae: 17.0265\n",
            "Epoch 8/150\n",
            "1/1 [==============================] - 0s 27ms/step - loss: 16.7453 - mae: 16.7453\n",
            "Epoch 9/150\n",
            "1/1 [==============================] - 0s 27ms/step - loss: 16.4640 - mae: 16.4640\n",
            "Epoch 10/150\n",
            "1/1 [==============================] - 0s 17ms/step - loss: 16.1827 - mae: 16.1827\n",
            "Epoch 11/150\n",
            "1/1 [==============================] - 0s 33ms/step - loss: 15.9015 - mae: 15.9015\n",
            "Epoch 12/150\n",
            "1/1 [==============================] - 0s 29ms/step - loss: 15.6202 - mae: 15.6202\n",
            "Epoch 13/150\n",
            "1/1 [==============================] - 0s 36ms/step - loss: 15.3390 - mae: 15.3390\n",
            "Epoch 14/150\n",
            "1/1 [==============================] - 0s 46ms/step - loss: 15.0577 - mae: 15.0577\n",
            "Epoch 15/150\n",
            "1/1 [==============================] - 0s 30ms/step - loss: 14.7797 - mae: 14.7797\n",
            "Epoch 16/150\n",
            "1/1 [==============================] - 0s 27ms/step - loss: 14.6472 - mae: 14.6472\n",
            "Epoch 17/150\n",
            "1/1 [==============================] - 0s 28ms/step - loss: 14.5147 - mae: 14.5147\n",
            "Epoch 18/150\n",
            "1/1 [==============================] - 0s 21ms/step - loss: 14.3822 - mae: 14.3822\n",
            "Epoch 19/150\n",
            "1/1 [==============================] - 0s 22ms/step - loss: 14.2497 - mae: 14.2497\n",
            "Epoch 20/150\n",
            "1/1 [==============================] - 0s 14ms/step - loss: 14.1172 - mae: 14.1172\n",
            "Epoch 21/150\n",
            "1/1 [==============================] - 0s 22ms/step - loss: 13.9847 - mae: 13.9847\n",
            "Epoch 22/150\n",
            "1/1 [==============================] - 0s 22ms/step - loss: 13.8523 - mae: 13.8523\n",
            "Epoch 23/150\n",
            "1/1 [==============================] - 0s 25ms/step - loss: 13.7197 - mae: 13.7197\n",
            "Epoch 24/150\n",
            "1/1 [==============================] - 0s 16ms/step - loss: 13.5872 - mae: 13.5872\n",
            "Epoch 25/150\n",
            "1/1 [==============================] - 0s 22ms/step - loss: 13.4547 - mae: 13.4547\n",
            "Epoch 26/150\n",
            "1/1 [==============================] - 0s 31ms/step - loss: 13.3222 - mae: 13.3222\n",
            "Epoch 27/150\n",
            "1/1 [==============================] - 0s 18ms/step - loss: 13.1897 - mae: 13.1897\n",
            "Epoch 28/150\n",
            "1/1 [==============================] - 0s 19ms/step - loss: 13.0572 - mae: 13.0572\n",
            "Epoch 29/150\n",
            "1/1 [==============================] - 0s 16ms/step - loss: 12.9247 - mae: 12.9247\n",
            "Epoch 30/150\n",
            "1/1 [==============================] - 0s 18ms/step - loss: 12.7922 - mae: 12.7922\n",
            "Epoch 31/150\n",
            "1/1 [==============================] - 0s 30ms/step - loss: 12.6597 - mae: 12.6597\n",
            "Epoch 32/150\n",
            "1/1 [==============================] - 0s 11ms/step - loss: 12.5273 - mae: 12.5273\n",
            "Epoch 33/150\n",
            "1/1 [==============================] - 0s 11ms/step - loss: 12.3947 - mae: 12.3947\n",
            "Epoch 34/150\n",
            "1/1 [==============================] - 0s 22ms/step - loss: 12.2622 - mae: 12.2622\n",
            "Epoch 35/150\n",
            "1/1 [==============================] - 0s 17ms/step - loss: 12.1297 - mae: 12.1297\n",
            "Epoch 36/150\n",
            "1/1 [==============================] - 0s 14ms/step - loss: 11.9972 - mae: 11.9972\n",
            "Epoch 37/150\n",
            "1/1 [==============================] - 0s 16ms/step - loss: 11.8647 - mae: 11.8647\n",
            "Epoch 38/150\n",
            "1/1 [==============================] - 0s 14ms/step - loss: 11.7323 - mae: 11.7323\n",
            "Epoch 39/150\n",
            "1/1 [==============================] - 0s 34ms/step - loss: 11.5997 - mae: 11.5997\n",
            "Epoch 40/150\n",
            "1/1 [==============================] - 0s 25ms/step - loss: 11.4672 - mae: 11.4672\n",
            "Epoch 41/150\n",
            "1/1 [==============================] - 0s 21ms/step - loss: 11.3347 - mae: 11.3347\n",
            "Epoch 42/150\n",
            "1/1 [==============================] - 0s 21ms/step - loss: 11.2022 - mae: 11.2022\n",
            "Epoch 43/150\n",
            "1/1 [==============================] - 0s 21ms/step - loss: 11.0697 - mae: 11.0697\n",
            "Epoch 44/150\n",
            "1/1 [==============================] - 0s 22ms/step - loss: 10.9372 - mae: 10.9372\n",
            "Epoch 45/150\n",
            "1/1 [==============================] - 0s 24ms/step - loss: 10.8047 - mae: 10.8047\n",
            "Epoch 46/150\n",
            "1/1 [==============================] - 0s 22ms/step - loss: 10.6722 - mae: 10.6722\n",
            "Epoch 47/150\n",
            "1/1 [==============================] - 0s 22ms/step - loss: 10.5397 - mae: 10.5397\n",
            "Epoch 48/150\n",
            "1/1 [==============================] - 0s 35ms/step - loss: 10.4072 - mae: 10.4072\n",
            "Epoch 49/150\n",
            "1/1 [==============================] - 0s 37ms/step - loss: 10.2747 - mae: 10.2747\n",
            "Epoch 50/150\n",
            "1/1 [==============================] - 0s 19ms/step - loss: 10.1422 - mae: 10.1422\n",
            "Epoch 51/150\n",
            "1/1 [==============================] - 0s 39ms/step - loss: 10.0097 - mae: 10.0097\n",
            "Epoch 52/150\n",
            "1/1 [==============================] - 0s 30ms/step - loss: 9.8772 - mae: 9.8772\n",
            "Epoch 53/150\n",
            "1/1 [==============================] - 0s 34ms/step - loss: 9.7447 - mae: 9.7447\n",
            "Epoch 54/150\n",
            "1/1 [==============================] - 0s 13ms/step - loss: 9.6122 - mae: 9.6122\n",
            "Epoch 55/150\n",
            "1/1 [==============================] - 0s 20ms/step - loss: 9.4797 - mae: 9.4797\n",
            "Epoch 56/150\n",
            "1/1 [==============================] - 0s 22ms/step - loss: 9.3472 - mae: 9.3472\n",
            "Epoch 57/150\n",
            "1/1 [==============================] - 0s 14ms/step - loss: 9.2147 - mae: 9.2147\n",
            "Epoch 58/150\n",
            "1/1 [==============================] - 0s 11ms/step - loss: 9.0822 - mae: 9.0822\n",
            "Epoch 59/150\n",
            "1/1 [==============================] - 0s 11ms/step - loss: 8.9497 - mae: 8.9497\n",
            "Epoch 60/150\n",
            "1/1 [==============================] - 0s 15ms/step - loss: 8.8172 - mae: 8.8172\n",
            "Epoch 61/150\n",
            "1/1 [==============================] - 0s 14ms/step - loss: 8.6847 - mae: 8.6847\n",
            "Epoch 62/150\n",
            "1/1 [==============================] - 0s 10ms/step - loss: 8.5522 - mae: 8.5522\n",
            "Epoch 63/150\n",
            "1/1 [==============================] - 0s 10ms/step - loss: 8.4197 - mae: 8.4197\n",
            "Epoch 64/150\n",
            "1/1 [==============================] - 0s 20ms/step - loss: 8.2872 - mae: 8.2872\n",
            "Epoch 65/150\n",
            "1/1 [==============================] - 0s 11ms/step - loss: 8.1547 - mae: 8.1547\n",
            "Epoch 66/150\n",
            "1/1 [==============================] - 0s 11ms/step - loss: 8.0222 - mae: 8.0222\n",
            "Epoch 67/150\n",
            "1/1 [==============================] - 0s 16ms/step - loss: 7.8897 - mae: 7.8897\n",
            "Epoch 68/150\n",
            "1/1 [==============================] - 0s 25ms/step - loss: 7.7572 - mae: 7.7572\n",
            "Epoch 69/150\n",
            "1/1 [==============================] - 0s 15ms/step - loss: 7.6248 - mae: 7.6248\n",
            "Epoch 70/150\n",
            "1/1 [==============================] - 0s 16ms/step - loss: 7.4923 - mae: 7.4923\n",
            "Epoch 71/150\n",
            "1/1 [==============================] - 0s 26ms/step - loss: 7.3598 - mae: 7.3598\n",
            "Epoch 72/150\n",
            "1/1 [==============================] - 0s 37ms/step - loss: 7.2273 - mae: 7.2273\n",
            "Epoch 73/150\n",
            "1/1 [==============================] - 0s 13ms/step - loss: 7.0948 - mae: 7.0948\n",
            "Epoch 74/150\n",
            "1/1 [==============================] - 0s 11ms/step - loss: 6.9623 - mae: 6.9623\n",
            "Epoch 75/150\n",
            "1/1 [==============================] - 0s 11ms/step - loss: 6.9431 - mae: 6.9431\n",
            "Epoch 76/150\n",
            "1/1 [==============================] - 0s 24ms/step - loss: 6.9375 - mae: 6.9375\n",
            "Epoch 77/150\n",
            "1/1 [==============================] - 0s 19ms/step - loss: 6.9319 - mae: 6.9319\n",
            "Epoch 78/150\n",
            "1/1 [==============================] - 0s 16ms/step - loss: 6.9263 - mae: 6.9263\n",
            "Epoch 79/150\n",
            "1/1 [==============================] - 0s 26ms/step - loss: 6.9206 - mae: 6.9206\n",
            "Epoch 80/150\n",
            "1/1 [==============================] - 0s 25ms/step - loss: 6.9150 - mae: 6.9150\n",
            "Epoch 81/150\n",
            "1/1 [==============================] - 0s 13ms/step - loss: 6.9094 - mae: 6.9094\n",
            "Epoch 82/150\n",
            "1/1 [==============================] - 0s 14ms/step - loss: 6.9038 - mae: 6.9038\n",
            "Epoch 83/150\n",
            "1/1 [==============================] - 0s 16ms/step - loss: 6.8981 - mae: 6.8981\n",
            "Epoch 84/150\n",
            "1/1 [==============================] - 0s 14ms/step - loss: 6.8925 - mae: 6.8925\n",
            "Epoch 85/150\n",
            "1/1 [==============================] - 0s 15ms/step - loss: 6.8869 - mae: 6.8869\n",
            "Epoch 86/150\n",
            "1/1 [==============================] - 0s 42ms/step - loss: 6.8813 - mae: 6.8813\n",
            "Epoch 87/150\n",
            "1/1 [==============================] - 0s 41ms/step - loss: 6.8756 - mae: 6.8756\n",
            "Epoch 88/150\n",
            "1/1 [==============================] - 0s 30ms/step - loss: 6.8700 - mae: 6.8700\n",
            "Epoch 89/150\n",
            "1/1 [==============================] - 0s 21ms/step - loss: 6.8644 - mae: 6.8644\n",
            "Epoch 90/150\n",
            "1/1 [==============================] - 0s 16ms/step - loss: 6.8588 - mae: 6.8588\n",
            "Epoch 91/150\n",
            "1/1 [==============================] - 0s 17ms/step - loss: 6.8531 - mae: 6.8531\n",
            "Epoch 92/150\n",
            "1/1 [==============================] - 0s 35ms/step - loss: 6.8475 - mae: 6.8475\n",
            "Epoch 93/150\n",
            "1/1 [==============================] - 0s 32ms/step - loss: 6.8419 - mae: 6.8419\n",
            "Epoch 94/150\n",
            "1/1 [==============================] - 0s 22ms/step - loss: 6.8363 - mae: 6.8363\n",
            "Epoch 95/150\n",
            "1/1 [==============================] - 0s 65ms/step - loss: 6.8306 - mae: 6.8306\n",
            "Epoch 96/150\n",
            "1/1 [==============================] - 0s 32ms/step - loss: 6.8250 - mae: 6.8250\n",
            "Epoch 97/150\n",
            "1/1 [==============================] - 0s 27ms/step - loss: 6.8194 - mae: 6.8194\n",
            "Epoch 98/150\n",
            "1/1 [==============================] - 0s 26ms/step - loss: 6.8138 - mae: 6.8138\n",
            "Epoch 99/150\n",
            "1/1 [==============================] - 0s 23ms/step - loss: 6.8081 - mae: 6.8081\n",
            "Epoch 100/150\n",
            "1/1 [==============================] - 0s 36ms/step - loss: 6.8025 - mae: 6.8025\n",
            "Epoch 101/150\n",
            "1/1 [==============================] - 0s 19ms/step - loss: 6.7969 - mae: 6.7969\n",
            "Epoch 102/150\n",
            "1/1 [==============================] - 0s 31ms/step - loss: 6.7913 - mae: 6.7913\n",
            "Epoch 103/150\n",
            "1/1 [==============================] - 0s 34ms/step - loss: 6.7856 - mae: 6.7856\n",
            "Epoch 104/150\n",
            "1/1 [==============================] - 0s 52ms/step - loss: 6.7800 - mae: 6.7800\n",
            "Epoch 105/150\n",
            "1/1 [==============================] - 0s 45ms/step - loss: 6.7744 - mae: 6.7744\n",
            "Epoch 106/150\n",
            "1/1 [==============================] - 0s 54ms/step - loss: 6.7688 - mae: 6.7688\n",
            "Epoch 107/150\n",
            "1/1 [==============================] - 0s 35ms/step - loss: 6.7631 - mae: 6.7631\n",
            "Epoch 108/150\n",
            "1/1 [==============================] - 0s 33ms/step - loss: 6.7575 - mae: 6.7575\n",
            "Epoch 109/150\n",
            "1/1 [==============================] - 0s 43ms/step - loss: 6.7519 - mae: 6.7519\n",
            "Epoch 110/150\n",
            "1/1 [==============================] - 0s 34ms/step - loss: 6.7463 - mae: 6.7463\n",
            "Epoch 111/150\n",
            "1/1 [==============================] - 0s 28ms/step - loss: 6.7406 - mae: 6.7406\n",
            "Epoch 112/150\n",
            "1/1 [==============================] - 0s 40ms/step - loss: 6.7350 - mae: 6.7350\n",
            "Epoch 113/150\n",
            "1/1 [==============================] - 0s 30ms/step - loss: 6.7294 - mae: 6.7294\n",
            "Epoch 114/150\n",
            "1/1 [==============================] - 0s 19ms/step - loss: 6.7238 - mae: 6.7238\n",
            "Epoch 115/150\n",
            "1/1 [==============================] - 0s 20ms/step - loss: 6.7181 - mae: 6.7181\n",
            "Epoch 116/150\n",
            "1/1 [==============================] - 0s 18ms/step - loss: 6.7125 - mae: 6.7125\n",
            "Epoch 117/150\n",
            "1/1 [==============================] - 0s 16ms/step - loss: 6.7069 - mae: 6.7069\n",
            "Epoch 118/150\n",
            "1/1 [==============================] - 0s 14ms/step - loss: 6.7013 - mae: 6.7013\n",
            "Epoch 119/150\n",
            "1/1 [==============================] - 0s 37ms/step - loss: 6.6956 - mae: 6.6956\n",
            "Epoch 120/150\n",
            "1/1 [==============================] - 0s 35ms/step - loss: 6.6900 - mae: 6.6900\n",
            "Epoch 121/150\n",
            "1/1 [==============================] - 0s 28ms/step - loss: 6.6844 - mae: 6.6844\n",
            "Epoch 122/150\n",
            "1/1 [==============================] - 0s 37ms/step - loss: 6.6787 - mae: 6.6787\n",
            "Epoch 123/150\n",
            "1/1 [==============================] - 0s 17ms/step - loss: 6.6731 - mae: 6.6731\n",
            "Epoch 124/150\n",
            "1/1 [==============================] - 0s 39ms/step - loss: 6.6675 - mae: 6.6675\n",
            "Epoch 125/150\n",
            "1/1 [==============================] - 0s 19ms/step - loss: 6.6619 - mae: 6.6619\n",
            "Epoch 126/150\n",
            "1/1 [==============================] - 0s 19ms/step - loss: 6.6562 - mae: 6.6562\n",
            "Epoch 127/150\n",
            "1/1 [==============================] - 0s 19ms/step - loss: 6.6506 - mae: 6.6506\n",
            "Epoch 128/150\n",
            "1/1 [==============================] - 0s 46ms/step - loss: 6.6450 - mae: 6.6450\n",
            "Epoch 129/150\n",
            "1/1 [==============================] - 0s 27ms/step - loss: 6.6394 - mae: 6.6394\n",
            "Epoch 130/150\n",
            "1/1 [==============================] - 0s 19ms/step - loss: 6.6337 - mae: 6.6337\n",
            "Epoch 131/150\n",
            "1/1 [==============================] - 0s 24ms/step - loss: 6.6281 - mae: 6.6281\n",
            "Epoch 132/150\n",
            "1/1 [==============================] - 0s 17ms/step - loss: 6.6225 - mae: 6.6225\n",
            "Epoch 133/150\n",
            "1/1 [==============================] - 0s 16ms/step - loss: 6.6169 - mae: 6.6169\n",
            "Epoch 134/150\n",
            "1/1 [==============================] - 0s 20ms/step - loss: 6.6112 - mae: 6.6112\n",
            "Epoch 135/150\n",
            "1/1 [==============================] - 0s 18ms/step - loss: 6.6056 - mae: 6.6056\n",
            "Epoch 136/150\n",
            "1/1 [==============================] - 0s 18ms/step - loss: 6.6000 - mae: 6.6000\n",
            "Epoch 137/150\n",
            "1/1 [==============================] - 0s 27ms/step - loss: 6.5944 - mae: 6.5944\n",
            "Epoch 138/150\n",
            "1/1 [==============================] - 0s 17ms/step - loss: 6.5887 - mae: 6.5887\n",
            "Epoch 139/150\n",
            "1/1 [==============================] - 0s 19ms/step - loss: 6.5831 - mae: 6.5831\n",
            "Epoch 140/150\n",
            "1/1 [==============================] - 0s 20ms/step - loss: 6.5775 - mae: 6.5775\n",
            "Epoch 141/150\n",
            "1/1 [==============================] - 0s 22ms/step - loss: 6.5719 - mae: 6.5719\n",
            "Epoch 142/150\n",
            "1/1 [==============================] - 0s 28ms/step - loss: 6.5662 - mae: 6.5662\n",
            "Epoch 143/150\n",
            "1/1 [==============================] - 0s 29ms/step - loss: 6.5606 - mae: 6.5606\n",
            "Epoch 144/150\n",
            "1/1 [==============================] - 0s 27ms/step - loss: 6.5550 - mae: 6.5550\n",
            "Epoch 145/150\n",
            "1/1 [==============================] - 0s 31ms/step - loss: 6.5494 - mae: 6.5494\n",
            "Epoch 146/150\n",
            "1/1 [==============================] - 0s 29ms/step - loss: 6.5437 - mae: 6.5437\n",
            "Epoch 147/150\n",
            "1/1 [==============================] - 0s 25ms/step - loss: 6.5381 - mae: 6.5381\n",
            "Epoch 148/150\n",
            "1/1 [==============================] - 0s 23ms/step - loss: 6.5325 - mae: 6.5325\n",
            "Epoch 149/150\n",
            "1/1 [==============================] - 0s 13ms/step - loss: 6.5269 - mae: 6.5269\n",
            "Epoch 150/150\n",
            "1/1 [==============================] - 0s 16ms/step - loss: 6.5212 - mae: 6.5212\n"
          ]
        },
        {
          "output_type": "execute_result",
          "data": {
            "text/plain": [
              "<keras.callbacks.History at 0x7f89e9ca3760>"
            ]
          },
          "metadata": {},
          "execution_count": 17
        }
      ]
    },
    {
      "cell_type": "code",
      "source": [
        "model.predict([17.0])"
      ],
      "metadata": {
        "colab": {
          "base_uri": "https://localhost:8080/"
        },
        "id": "OKzItTSDrrIB",
        "outputId": "eb26ad75-0e12-4dff-96a2-11ca6f86b860"
      },
      "execution_count": 18,
      "outputs": [
        {
          "output_type": "stream",
          "name": "stdout",
          "text": [
            "1/1 [==============================] - 0s 157ms/step\n"
          ]
        },
        {
          "output_type": "execute_result",
          "data": {
            "text/plain": [
              "array([[30.10443]], dtype=float32)"
            ]
          },
          "metadata": {},
          "execution_count": 18
        }
      ]
    },
    {
      "cell_type": "code",
      "source": [
        "#improve model by change optimizer\n",
        "model = tf.keras.Sequential([\n",
        "    tf.keras.layers.Dense(100, activation=\"relu\"),\n",
        "    tf.keras.layers.Dense(1)\n",
        "])\n",
        "#compile\n",
        "model.compile(loss=tf.keras.losses.mae,\n",
        "              optimizer= tf.keras.optimizers.SGD(),\n",
        "              metrics= [\"mae\"])\n",
        "#fit\n",
        "model.fit(tf.expand_dims(X, axis=-1), y, epochs=150)"
      ],
      "metadata": {
        "colab": {
          "base_uri": "https://localhost:8080/"
        },
        "id": "uMt9eym8rusi",
        "outputId": "44fc5757-3fd5-4640-f5fc-c5a31c7c83e7"
      },
      "execution_count": 23,
      "outputs": [
        {
          "output_type": "stream",
          "name": "stdout",
          "text": [
            "Epoch 1/150\n",
            "1/1 [==============================] - 1s 616ms/step - loss: 14.6833 - mae: 14.6833\n",
            "Epoch 2/150\n",
            "1/1 [==============================] - 0s 12ms/step - loss: 14.0749 - mae: 14.0749\n",
            "Epoch 3/150\n",
            "1/1 [==============================] - 0s 12ms/step - loss: 13.4797 - mae: 13.4797\n",
            "Epoch 4/150\n",
            "1/1 [==============================] - 0s 11ms/step - loss: 12.8938 - mae: 12.8938\n",
            "Epoch 5/150\n",
            "1/1 [==============================] - 0s 10ms/step - loss: 12.3192 - mae: 12.3192\n",
            "Epoch 6/150\n",
            "1/1 [==============================] - 0s 11ms/step - loss: 11.7419 - mae: 11.7419\n",
            "Epoch 7/150\n",
            "1/1 [==============================] - 0s 11ms/step - loss: 11.1538 - mae: 11.1538\n",
            "Epoch 8/150\n",
            "1/1 [==============================] - 0s 11ms/step - loss: 10.5592 - mae: 10.5592\n",
            "Epoch 9/150\n",
            "1/1 [==============================] - 0s 10ms/step - loss: 9.9366 - mae: 9.9366\n",
            "Epoch 10/150\n",
            "1/1 [==============================] - 0s 11ms/step - loss: 9.2862 - mae: 9.2862\n",
            "Epoch 11/150\n",
            "1/1 [==============================] - 0s 10ms/step - loss: 8.6030 - mae: 8.6030\n",
            "Epoch 12/150\n",
            "1/1 [==============================] - 0s 10ms/step - loss: 7.8801 - mae: 7.8801\n",
            "Epoch 13/150\n",
            "1/1 [==============================] - 0s 11ms/step - loss: 7.1067 - mae: 7.1067\n",
            "Epoch 14/150\n",
            "1/1 [==============================] - 0s 10ms/step - loss: 6.2780 - mae: 6.2780\n",
            "Epoch 15/150\n",
            "1/1 [==============================] - 0s 10ms/step - loss: 5.3876 - mae: 5.3876\n",
            "Epoch 16/150\n",
            "1/1 [==============================] - 0s 11ms/step - loss: 4.4820 - mae: 4.4820\n",
            "Epoch 17/150\n",
            "1/1 [==============================] - 0s 10ms/step - loss: 3.9763 - mae: 3.9763\n",
            "Epoch 18/150\n",
            "1/1 [==============================] - 0s 12ms/step - loss: 3.9071 - mae: 3.9071\n",
            "Epoch 19/150\n",
            "1/1 [==============================] - 0s 15ms/step - loss: 3.9508 - mae: 3.9508\n",
            "Epoch 20/150\n",
            "1/1 [==============================] - 0s 14ms/step - loss: 3.9141 - mae: 3.9141\n",
            "Epoch 21/150\n",
            "1/1 [==============================] - 0s 13ms/step - loss: 3.9252 - mae: 3.9252\n",
            "Epoch 22/150\n",
            "1/1 [==============================] - 0s 15ms/step - loss: 3.9213 - mae: 3.9213\n",
            "Epoch 23/150\n",
            "1/1 [==============================] - 0s 14ms/step - loss: 3.8994 - mae: 3.8994\n",
            "Epoch 24/150\n",
            "1/1 [==============================] - 0s 11ms/step - loss: 3.9341 - mae: 3.9341\n",
            "Epoch 25/150\n",
            "1/1 [==============================] - 0s 11ms/step - loss: 3.8809 - mae: 3.8809\n",
            "Epoch 26/150\n",
            "1/1 [==============================] - 0s 11ms/step - loss: 3.9440 - mae: 3.9440\n",
            "Epoch 27/150\n",
            "1/1 [==============================] - 0s 11ms/step - loss: 3.8755 - mae: 3.8755\n",
            "Epoch 28/150\n",
            "1/1 [==============================] - 0s 11ms/step - loss: 3.9298 - mae: 3.9298\n",
            "Epoch 29/150\n",
            "1/1 [==============================] - 0s 14ms/step - loss: 3.8827 - mae: 3.8827\n",
            "Epoch 30/150\n",
            "1/1 [==============================] - 0s 15ms/step - loss: 3.9040 - mae: 3.9040\n",
            "Epoch 31/150\n",
            "1/1 [==============================] - 0s 16ms/step - loss: 3.8901 - mae: 3.8901\n",
            "Epoch 32/150\n",
            "1/1 [==============================] - 0s 16ms/step - loss: 3.8819 - mae: 3.8819\n",
            "Epoch 33/150\n",
            "1/1 [==============================] - 0s 16ms/step - loss: 3.9056 - mae: 3.9056\n",
            "Epoch 34/150\n",
            "1/1 [==============================] - 0s 15ms/step - loss: 3.8591 - mae: 3.8591\n",
            "Epoch 35/150\n",
            "1/1 [==============================] - 0s 15ms/step - loss: 3.9131 - mae: 3.9131\n",
            "Epoch 36/150\n",
            "1/1 [==============================] - 0s 12ms/step - loss: 3.8451 - mae: 3.8451\n",
            "Epoch 37/150\n",
            "1/1 [==============================] - 0s 11ms/step - loss: 3.9076 - mae: 3.9076\n",
            "Epoch 38/150\n",
            "1/1 [==============================] - 0s 15ms/step - loss: 3.8525 - mae: 3.8525\n",
            "Epoch 39/150\n",
            "1/1 [==============================] - 0s 14ms/step - loss: 3.8815 - mae: 3.8815\n",
            "Epoch 40/150\n",
            "1/1 [==============================] - 0s 15ms/step - loss: 3.8616 - mae: 3.8616\n",
            "Epoch 41/150\n",
            "1/1 [==============================] - 0s 18ms/step - loss: 3.8626 - mae: 3.8626\n",
            "Epoch 42/150\n",
            "1/1 [==============================] - 0s 13ms/step - loss: 3.8757 - mae: 3.8757\n",
            "Epoch 43/150\n",
            "1/1 [==============================] - 0s 14ms/step - loss: 3.8361 - mae: 3.8361\n",
            "Epoch 44/150\n",
            "1/1 [==============================] - 0s 15ms/step - loss: 3.8834 - mae: 3.8834\n",
            "Epoch 45/150\n",
            "1/1 [==============================] - 0s 15ms/step - loss: 3.8157 - mae: 3.8157\n",
            "Epoch 46/150\n",
            "1/1 [==============================] - 0s 14ms/step - loss: 3.8842 - mae: 3.8842\n",
            "Epoch 47/150\n",
            "1/1 [==============================] - 0s 14ms/step - loss: 3.8233 - mae: 3.8233\n",
            "Epoch 48/150\n",
            "1/1 [==============================] - 0s 16ms/step - loss: 3.8578 - mae: 3.8578\n",
            "Epoch 49/150\n",
            "1/1 [==============================] - 0s 11ms/step - loss: 3.8381 - mae: 3.8381\n",
            "Epoch 50/150\n",
            "1/1 [==============================] - 0s 10ms/step - loss: 3.8386 - mae: 3.8386\n",
            "Epoch 51/150\n",
            "1/1 [==============================] - 0s 11ms/step - loss: 3.8469 - mae: 3.8469\n",
            "Epoch 52/150\n",
            "1/1 [==============================] - 0s 12ms/step - loss: 3.8120 - mae: 3.8120\n",
            "Epoch 53/150\n",
            "1/1 [==============================] - 0s 11ms/step - loss: 3.8548 - mae: 3.8548\n",
            "Epoch 54/150\n",
            "1/1 [==============================] - 0s 11ms/step - loss: 3.7872 - mae: 3.7872\n",
            "Epoch 55/150\n",
            "1/1 [==============================] - 0s 11ms/step - loss: 3.8598 - mae: 3.8598\n",
            "Epoch 56/150\n",
            "1/1 [==============================] - 0s 13ms/step - loss: 3.7951 - mae: 3.7951\n",
            "Epoch 57/150\n",
            "1/1 [==============================] - 0s 13ms/step - loss: 3.8382 - mae: 3.8382\n",
            "Epoch 58/150\n",
            "1/1 [==============================] - 0s 12ms/step - loss: 3.8109 - mae: 3.8109\n",
            "Epoch 59/150\n",
            "1/1 [==============================] - 0s 12ms/step - loss: 3.8136 - mae: 3.8136\n",
            "Epoch 60/150\n",
            "1/1 [==============================] - 0s 10ms/step - loss: 3.8190 - mae: 3.8190\n",
            "Epoch 61/150\n",
            "1/1 [==============================] - 0s 14ms/step - loss: 3.7868 - mae: 3.7868\n",
            "Epoch 62/150\n",
            "1/1 [==============================] - 0s 14ms/step - loss: 3.8270 - mae: 3.8270\n",
            "Epoch 63/150\n",
            "1/1 [==============================] - 0s 13ms/step - loss: 3.7598 - mae: 3.7598\n",
            "Epoch 64/150\n",
            "1/1 [==============================] - 0s 12ms/step - loss: 3.8341 - mae: 3.8341\n",
            "Epoch 65/150\n",
            "1/1 [==============================] - 0s 12ms/step - loss: 3.7702 - mae: 3.7702\n",
            "Epoch 66/150\n",
            "1/1 [==============================] - 0s 13ms/step - loss: 3.8145 - mae: 3.8145\n",
            "Epoch 67/150\n",
            "1/1 [==============================] - 0s 11ms/step - loss: 3.7839 - mae: 3.7839\n",
            "Epoch 68/150\n",
            "1/1 [==============================] - 0s 13ms/step - loss: 3.7875 - mae: 3.7875\n",
            "Epoch 69/150\n",
            "1/1 [==============================] - 0s 11ms/step - loss: 3.7921 - mae: 3.7921\n",
            "Epoch 70/150\n",
            "1/1 [==============================] - 0s 10ms/step - loss: 3.7603 - mae: 3.7603\n",
            "Epoch 71/150\n",
            "1/1 [==============================] - 0s 11ms/step - loss: 3.8003 - mae: 3.8003\n",
            "Epoch 72/150\n",
            "1/1 [==============================] - 0s 12ms/step - loss: 3.7334 - mae: 3.7334\n",
            "Epoch 73/150\n",
            "1/1 [==============================] - 0s 11ms/step - loss: 3.8075 - mae: 3.8075\n",
            "Epoch 74/150\n",
            "1/1 [==============================] - 0s 12ms/step - loss: 3.7495 - mae: 3.7495\n",
            "Epoch 75/150\n",
            "1/1 [==============================] - 0s 15ms/step - loss: 3.7873 - mae: 3.7873\n",
            "Epoch 76/150\n",
            "1/1 [==============================] - 0s 14ms/step - loss: 3.7578 - mae: 3.7578\n",
            "Epoch 77/150\n",
            "1/1 [==============================] - 0s 14ms/step - loss: 3.7600 - mae: 3.7600\n",
            "Epoch 78/150\n",
            "1/1 [==============================] - 0s 18ms/step - loss: 3.7662 - mae: 3.7662\n",
            "Epoch 79/150\n",
            "1/1 [==============================] - 0s 14ms/step - loss: 3.7326 - mae: 3.7326\n",
            "Epoch 80/150\n",
            "1/1 [==============================] - 0s 12ms/step - loss: 3.7746 - mae: 3.7746\n",
            "Epoch 81/150\n",
            "1/1 [==============================] - 0s 19ms/step - loss: 3.7079 - mae: 3.7079\n",
            "Epoch 82/150\n",
            "1/1 [==============================] - 0s 12ms/step - loss: 3.7843 - mae: 3.7843\n",
            "Epoch 83/150\n",
            "1/1 [==============================] - 0s 12ms/step - loss: 3.7242 - mae: 3.7242\n",
            "Epoch 84/150\n",
            "1/1 [==============================] - 0s 16ms/step - loss: 3.7589 - mae: 3.7589\n",
            "Epoch 85/150\n",
            "1/1 [==============================] - 0s 12ms/step - loss: 3.7327 - mae: 3.7327\n",
            "Epoch 86/150\n",
            "1/1 [==============================] - 0s 11ms/step - loss: 3.7312 - mae: 3.7312\n",
            "Epoch 87/150\n",
            "1/1 [==============================] - 0s 10ms/step - loss: 3.7414 - mae: 3.7414\n",
            "Epoch 88/150\n",
            "1/1 [==============================] - 0s 10ms/step - loss: 3.7034 - mae: 3.7034\n",
            "Epoch 89/150\n",
            "1/1 [==============================] - 0s 10ms/step - loss: 3.7500 - mae: 3.7500\n",
            "Epoch 90/150\n",
            "1/1 [==============================] - 0s 10ms/step - loss: 3.6856 - mae: 3.6856\n",
            "Epoch 91/150\n",
            "1/1 [==============================] - 0s 14ms/step - loss: 3.7569 - mae: 3.7569\n",
            "Epoch 92/150\n",
            "1/1 [==============================] - 0s 12ms/step - loss: 3.7000 - mae: 3.7000\n",
            "Epoch 93/150\n",
            "1/1 [==============================] - 0s 14ms/step - loss: 3.7290 - mae: 3.7290\n",
            "Epoch 94/150\n",
            "1/1 [==============================] - 0s 10ms/step - loss: 3.7087 - mae: 3.7087\n",
            "Epoch 95/150\n",
            "1/1 [==============================] - 0s 18ms/step - loss: 3.7010 - mae: 3.7010\n",
            "Epoch 96/150\n",
            "1/1 [==============================] - 0s 14ms/step - loss: 3.7176 - mae: 3.7176\n",
            "Epoch 97/150\n",
            "1/1 [==============================] - 0s 15ms/step - loss: 3.6730 - mae: 3.6730\n",
            "Epoch 98/150\n",
            "1/1 [==============================] - 0s 16ms/step - loss: 3.7264 - mae: 3.7264\n",
            "Epoch 99/150\n",
            "1/1 [==============================] - 0s 16ms/step - loss: 3.6667 - mae: 3.6667\n",
            "Epoch 100/150\n",
            "1/1 [==============================] - 0s 16ms/step - loss: 3.7263 - mae: 3.7263\n",
            "Epoch 101/150\n",
            "1/1 [==============================] - 0s 16ms/step - loss: 3.6766 - mae: 3.6766\n",
            "Epoch 102/150\n",
            "1/1 [==============================] - 0s 13ms/step - loss: 3.6980 - mae: 3.6980\n",
            "Epoch 103/150\n",
            "1/1 [==============================] - 0s 13ms/step - loss: 3.6856 - mae: 3.6856\n",
            "Epoch 104/150\n",
            "1/1 [==============================] - 0s 14ms/step - loss: 3.6698 - mae: 3.6698\n",
            "Epoch 105/150\n",
            "1/1 [==============================] - 0s 15ms/step - loss: 3.6945 - mae: 3.6945\n",
            "Epoch 106/150\n",
            "1/1 [==============================] - 0s 15ms/step - loss: 3.6414 - mae: 3.6414\n",
            "Epoch 107/150\n",
            "1/1 [==============================] - 0s 13ms/step - loss: 3.7069 - mae: 3.7069\n",
            "Epoch 108/150\n",
            "1/1 [==============================] - 0s 11ms/step - loss: 3.6451 - mae: 3.6451\n",
            "Epoch 109/150\n",
            "1/1 [==============================] - 0s 13ms/step - loss: 3.6944 - mae: 3.6944\n",
            "Epoch 110/150\n",
            "1/1 [==============================] - 0s 13ms/step - loss: 3.6541 - mae: 3.6541\n",
            "Epoch 111/150\n",
            "1/1 [==============================] - 0s 12ms/step - loss: 3.6658 - mae: 3.6658\n",
            "Epoch 112/150\n",
            "1/1 [==============================] - 0s 11ms/step - loss: 3.6633 - mae: 3.6633\n",
            "Epoch 113/150\n",
            "1/1 [==============================] - 0s 14ms/step - loss: 3.6371 - mae: 3.6371\n",
            "Epoch 114/150\n",
            "1/1 [==============================] - 0s 11ms/step - loss: 3.6724 - mae: 3.6724\n",
            "Epoch 115/150\n",
            "1/1 [==============================] - 0s 11ms/step - loss: 3.6090 - mae: 3.6090\n",
            "Epoch 116/150\n",
            "1/1 [==============================] - 0s 11ms/step - loss: 3.6895 - mae: 3.6895\n",
            "Epoch 117/150\n",
            "1/1 [==============================] - 0s 12ms/step - loss: 3.6233 - mae: 3.6233\n",
            "Epoch 118/150\n",
            "1/1 [==============================] - 0s 12ms/step - loss: 3.6612 - mae: 3.6612\n",
            "Epoch 119/150\n",
            "1/1 [==============================] - 0s 13ms/step - loss: 3.6325 - mae: 3.6325\n",
            "Epoch 120/150\n",
            "1/1 [==============================] - 0s 15ms/step - loss: 3.6322 - mae: 3.6322\n",
            "Epoch 121/150\n",
            "1/1 [==============================] - 0s 14ms/step - loss: 3.6418 - mae: 3.6418\n",
            "Epoch 122/150\n",
            "1/1 [==============================] - 0s 15ms/step - loss: 3.6032 - mae: 3.6032\n",
            "Epoch 123/150\n",
            "1/1 [==============================] - 0s 12ms/step - loss: 3.6512 - mae: 3.6512\n",
            "Epoch 124/150\n",
            "1/1 [==============================] - 0s 13ms/step - loss: 3.5903 - mae: 3.5903\n",
            "Epoch 125/150\n",
            "1/1 [==============================] - 0s 13ms/step - loss: 3.6555 - mae: 3.6555\n",
            "Epoch 126/150\n",
            "1/1 [==============================] - 0s 13ms/step - loss: 3.6026 - mae: 3.6026\n",
            "Epoch 127/150\n",
            "1/1 [==============================] - 0s 13ms/step - loss: 3.6263 - mae: 3.6263\n",
            "Epoch 128/150\n",
            "1/1 [==============================] - 0s 12ms/step - loss: 3.6119 - mae: 3.6119\n",
            "Epoch 129/150\n",
            "1/1 [==============================] - 0s 12ms/step - loss: 3.5970 - mae: 3.5970\n",
            "Epoch 130/150\n",
            "1/1 [==============================] - 0s 13ms/step - loss: 3.6215 - mae: 3.6215\n",
            "Epoch 131/150\n",
            "1/1 [==============================] - 0s 15ms/step - loss: 3.5678 - mae: 3.5678\n",
            "Epoch 132/150\n",
            "1/1 [==============================] - 0s 14ms/step - loss: 3.6322 - mae: 3.6322\n",
            "Epoch 133/150\n",
            "1/1 [==============================] - 0s 15ms/step - loss: 3.5731 - mae: 3.5731\n",
            "Epoch 134/150\n",
            "1/1 [==============================] - 0s 12ms/step - loss: 3.6198 - mae: 3.6198\n",
            "Epoch 135/150\n",
            "1/1 [==============================] - 0s 11ms/step - loss: 3.5826 - mae: 3.5826\n",
            "Epoch 136/150\n",
            "1/1 [==============================] - 0s 11ms/step - loss: 3.5903 - mae: 3.5903\n",
            "Epoch 137/150\n",
            "1/1 [==============================] - 0s 14ms/step - loss: 3.5922 - mae: 3.5922\n",
            "Epoch 138/150\n",
            "1/1 [==============================] - 0s 13ms/step - loss: 3.5608 - mae: 3.5608\n",
            "Epoch 139/150\n",
            "1/1 [==============================] - 0s 14ms/step - loss: 3.6018 - mae: 3.6018\n",
            "Epoch 140/150\n",
            "1/1 [==============================] - 0s 13ms/step - loss: 3.5365 - mae: 3.5365\n",
            "Epoch 141/150\n",
            "1/1 [==============================] - 0s 13ms/step - loss: 3.6111 - mae: 3.6111\n",
            "Epoch 142/150\n",
            "1/1 [==============================] - 0s 13ms/step - loss: 3.5539 - mae: 3.5539\n",
            "Epoch 143/150\n",
            "1/1 [==============================] - 0s 13ms/step - loss: 3.5826 - mae: 3.5826\n",
            "Epoch 144/150\n",
            "1/1 [==============================] - 0s 13ms/step - loss: 3.5636 - mae: 3.5636\n",
            "Epoch 145/150\n",
            "1/1 [==============================] - 0s 13ms/step - loss: 3.5527 - mae: 3.5527\n",
            "Epoch 146/150\n",
            "1/1 [==============================] - 0s 16ms/step - loss: 3.5734 - mae: 3.5734\n",
            "Epoch 147/150\n",
            "1/1 [==============================] - 0s 13ms/step - loss: 3.5230 - mae: 3.5230\n",
            "Epoch 148/150\n",
            "1/1 [==============================] - 0s 11ms/step - loss: 3.5831 - mae: 3.5831\n",
            "Epoch 149/150\n",
            "1/1 [==============================] - 0s 10ms/step - loss: 3.5200 - mae: 3.5200\n",
            "Epoch 150/150\n",
            "1/1 [==============================] - 0s 10ms/step - loss: 3.5743 - mae: 3.5743\n"
          ]
        },
        {
          "output_type": "execute_result",
          "data": {
            "text/plain": [
              "<keras.callbacks.History at 0x7f89e4ad83a0>"
            ]
          },
          "metadata": {},
          "execution_count": 23
        }
      ]
    },
    {
      "cell_type": "code",
      "source": [
        "model.predict([17.0])"
      ],
      "metadata": {
        "colab": {
          "base_uri": "https://localhost:8080/"
        },
        "id": "rQKtIVIXtqya",
        "outputId": "687f1b31-51b5-4286-829b-e3bc01ba5b6e"
      },
      "execution_count": 22,
      "outputs": [
        {
          "output_type": "stream",
          "name": "stdout",
          "text": [
            "1/1 [==============================] - 0s 155ms/step\n"
          ]
        },
        {
          "output_type": "execute_result",
          "data": {
            "text/plain": [
              "array([[31.136305]], dtype=float32)"
            ]
          },
          "metadata": {},
          "execution_count": 22
        }
      ]
    },
    {
      "cell_type": "code",
      "source": [
        "#improve model by change optimizer\n",
        "model = tf.keras.Sequential([\n",
        "    tf.keras.layers.Dense(100, activation=\"relu\"),\n",
        "    tf.keras.layers.Dense(1)\n",
        "])\n",
        "#compile\n",
        "model.compile(loss=tf.keras.losses.mae,\n",
        "              optimizer= tf.keras.optimizers.adam(lr=1000),\n",
        "              metrics= [\"mae\"])\n",
        "#fit\n",
        "model.fit(tf.expand_dims(X, axis=-1), y, epochs=150)"
      ],
      "metadata": {
        "id": "2QrMFsB8uA5w"
      },
      "execution_count": null,
      "outputs": []
    },
    {
      "cell_type": "code",
      "source": [
        "#make dataset bigger\n",
        "\n",
        "X=tf.range(-100, 100, 4)\n",
        "y= X+10\n",
        "plt.scatter(X,y)"
      ],
      "metadata": {
        "colab": {
          "base_uri": "https://localhost:8080/",
          "height": 447
        },
        "id": "pZFTFzpDwxzD",
        "outputId": "39d92929-e869-4cd6-e953-d55c3e1cb2fc"
      },
      "execution_count": 25,
      "outputs": [
        {
          "output_type": "execute_result",
          "data": {
            "text/plain": [
              "<matplotlib.collections.PathCollection at 0x7f89e7eeab80>"
            ]
          },
          "metadata": {},
          "execution_count": 25
        },
        {
          "output_type": "display_data",
          "data": {
            "text/plain": [
              "<Figure size 640x480 with 1 Axes>"
            ],
            "image/png": "[encoded data removed]"
          },
          "metadata": {}
        }
      ]
    },
    {
      "cell_type": "code",
      "source": [
        "from matplotlib.font_manager import X11FontDirectories\n",
        "#3sets\n",
        "#spliting x and y into a 80 training e 20 % test set\n",
        "\n",
        "X_train =X[:40] \n",
        "y_train = y[:40]\n",
        "X_test = X[40 :]\n",
        "y_test =y[40:]\n",
        "len(X_train), len(y_train), len(X_test), len(y_test)"
      ],
      "metadata": {
        "colab": {
          "base_uri": "https://localhost:8080/"
        },
        "id": "_JLeozFcxMZ0",
        "outputId": "d8606033-9796-4803-cbdd-a1afbf4e642b"
      },
      "execution_count": 30,
      "outputs": [
        {
          "output_type": "execute_result",
          "data": {
            "text/plain": [
              "(40, 40, 10, 10)"
            ]
          },
          "metadata": {},
          "execution_count": 30
        }
      ]
    },
    {
      "cell_type": "code",
      "source": [
        "#visualize data\n",
        "plt.figure(figsize= (10,7))\n",
        "plt.scatter(X_train, y_train, c=\"b\", label=\"training data\")\n",
        "plt.scatter(X_test, y_test, c=\"g\", label=\"testing data\")\n",
        "plt.legend();"
      ],
      "metadata": {
        "colab": {
          "base_uri": "https://localhost:8080/",
          "height": 599
        },
        "id": "ylV14-mXzNir",
        "outputId": "74bf7ffa-9fb1-456b-f059-78d09696e6ac"
      },
      "execution_count": 35,
      "outputs": [
        {
          "output_type": "display_data",
          "data": {
            "text/plain": [
              "<Figure size 1000x700 with 1 Axes>"
            ],
            "image/png": "[encoded data removed]"
          },
          "metadata": {}
        }
      ]
    },
    {
      "cell_type": "code",
      "source": [],
      "metadata": {
        "id": "ChcZ2rl50Fik"
      },
      "execution_count": null,
      "outputs": []
    },
    {
      "cell_type": "code",
      "source": [
        "#improve model by change optimizer\n",
        "model = tf.keras.Sequential([\n",
        "    tf.keras.layers.Dense(10, input_shape = [1], name=\"input_layer\"),\n",
        "    tf.keras.layers.Dense(1, name=\"output_layer\")\n",
        "])\n",
        "#compile\n",
        "model.compile(loss=tf.keras.losses.mae,\n",
        "              optimizer= tf.keras.optimizers.SGD(),\n",
        "              metrics= [\"mae\"])\n",
        "#fit\n",
        "#model.fit(tf.expand_dims(X, axis=-1), y, epochs=150)"
      ],
      "metadata": {
        "id": "lvAtErPh4OKZ"
      },
      "execution_count": 91,
      "outputs": []
    },
    {
      "cell_type": "code",
      "source": [
        "model.summary()"
      ],
      "metadata": {
        "colab": {
          "base_uri": "https://localhost:8080/"
        },
        "id": "sUebYQ2E4lG2",
        "outputId": "2225556b-bd94-4b8c-8af7-15f733f6ddb0"
      },
      "execution_count": 92,
      "outputs": [
        {
          "output_type": "stream",
          "name": "stdout",
          "text": [
            "Model: \"sequential_12\"\n",
            "_________________________________________________________________\n",
            " Layer (type)                Output Shape              Param #   \n",
            "=================================================================\n",
            " input_layer (Dense)         (None, 10)                20        \n",
            "                                                                 \n",
            " output_layer (Dense)        (None, 1)                 11        \n",
            "                                                                 \n",
            "=================================================================\n",
            "Total params: 31\n",
            "Trainable params: 31\n",
            "Non-trainable params: 0\n",
            "_________________________________________________________________\n"
          ]
        }
      ]
    },
    {
      "cell_type": "code",
      "source": [
        "model.fit(X_train, y_train, epochs=100, verbose=0)"
      ],
      "metadata": {
        "colab": {
          "base_uri": "https://localhost:8080/"
        },
        "id": "_flX8Yjd4ykD",
        "outputId": "2b56f08d-db6d-4e74-db39-a8486960fc38"
      },
      "execution_count": 93,
      "outputs": [
        {
          "output_type": "execute_result",
          "data": {
            "text/plain": [
              "<keras.callbacks.History at 0x7f89e95113a0>"
            ]
          },
          "metadata": {},
          "execution_count": 93
        }
      ]
    },
    {
      "cell_type": "code",
      "source": [
        "model.summary()"
      ],
      "metadata": {
        "colab": {
          "base_uri": "https://localhost:8080/"
        },
        "id": "C17WlEGI5Y-m",
        "outputId": "a291a62e-c007-4765-cad5-5ccf48b1e1ae"
      },
      "execution_count": 59,
      "outputs": [
        {
          "output_type": "stream",
          "name": "stdout",
          "text": [
            "Model: \"sequential_8\"\n",
            "_________________________________________________________________\n",
            " Layer (type)                Output Shape              Param #   \n",
            "=================================================================\n",
            " input_layer (Dense)         (None, 10)                20        \n",
            "                                                                 \n",
            " output_layer (Dense)        (None, 1)                 11        \n",
            "                                                                 \n",
            "=================================================================\n",
            "Total params: 31\n",
            "Trainable params: 31\n",
            "Non-trainable params: 0\n",
            "_________________________________________________________________\n"
          ]
        }
      ]
    },
    {
      "cell_type": "code",
      "source": [
        "\n",
        "from tensorflow.keras.utils import plot_model\n",
        "\n",
        "plot_model(model, show_shapes=True)"
      ],
      "metadata": {
        "colab": {
          "base_uri": "https://localhost:8080/",
          "height": 312
        },
        "id": "XhIs61SF5rHU",
        "outputId": "38f3d3f9-bb66-48ef-e6a1-15537cfdc34c"
      },
      "execution_count": 94,
      "outputs": [
        {
          "output_type": "execute_result",
          "data": {
            "image/png": "[encoded data removed]",
            "text/plain": [
              "<IPython.core.display.Image object>"
            ]
          },
          "metadata": {},
          "execution_count": 94
        }
      ]
    },
    {
      "cell_type": "code",
      "source": [
        "y_pred = model.predict(X_test)\n",
        "     \n",
        "def plot_predictions(train_data=X_train,\n",
        "                     train_label = y_train,\n",
        "                     test_data = X_test,\n",
        "                     test_label = y_test,\n",
        "                     predictions= y_pred):\n",
        "  plt.figure(figsize=(10,7))\n",
        "  plt.scatter(train_data, train_label, c= \"b\", label= \"training data\")\n",
        "  plt.scatter(test_data, test_label, c= \"g\", label = \"testing data\")\n",
        "  plt.scatter(test_data, predictions, c= \"r\", label=(\"prediction\"))\n",
        "  plt.legend();"
      ],
      "metadata": {
        "colab": {
          "base_uri": "https://localhost:8080/"
        },
        "id": "WbNjGy9S-C4d",
        "outputId": "9992d44a-fa0d-4229-efcc-df7056ca3208"
      },
      "execution_count": 95,
      "outputs": [
        {
          "output_type": "stream",
          "name": "stdout",
          "text": [
            "1/1 [==============================] - 0s 64ms/step\n"
          ]
        }
      ]
    },
    {
      "cell_type": "code",
      "source": [
        "plot_predictions(train_data=X_train,\n",
        "                 train_label=y_train,\n",
        "                 test_data=X_test,\n",
        "                 test_label=y_test,\n",
        "                 predictions=y_pred)"
      ],
      "metadata": {
        "colab": {
          "base_uri": "https://localhost:8080/",
          "height": 599
        },
        "id": "n-ZS2EImAiCp",
        "outputId": "930d0f64-56f6-4685-ee45-17c37e146b25"
      },
      "execution_count": 96,
      "outputs": [
        {
          "output_type": "display_data",
          "data": {
            "text/plain": [
              "<Figure size 1000x700 with 1 Axes>"
            ],
            "image/png": "[encoded data removed]"
          },
          "metadata": {}
        }
      ]
    },
    {
      "cell_type": "code",
      "source": [
        "model.evaluate(X_test, y_test)"
      ],
      "metadata": {
        "colab": {
          "base_uri": "https://localhost:8080/"
        },
        "id": "RCZ_dma7A7RN",
        "outputId": "92a8277d-b1b6-44f7-d846-f7fd497c03ac"
      },
      "execution_count": 97,
      "outputs": [
        {
          "output_type": "stream",
          "name": "stdout",
          "text": [
            "1/1 [==============================] - 0s 229ms/step - loss: 29.9172 - mae: 29.9172\n"
          ]
        },
        {
          "output_type": "execute_result",
          "data": {
            "text/plain": [
              "[29.917150497436523, 29.917150497436523]"
            ]
          },
          "metadata": {},
          "execution_count": 97
        }
      ]
    },
    {
      "cell_type": "code",
      "source": [
        "mae= tf.metrics.mean_absolute_error(y_true= y_test, \n",
        "                                    y_pred=tf.squeeze(y_pred))\n",
        "mae"
      ],
      "metadata": {
        "colab": {
          "base_uri": "https://localhost:8080/"
        },
        "id": "dPVdnVKRFSvD",
        "outputId": "ae63f28e-3ae6-431e-ffb5-ca640f377f7f"
      },
      "execution_count": 101,
      "outputs": [
        {
          "output_type": "execute_result",
          "data": {
            "text/plain": [
              "<tf.Tensor: shape=(), dtype=float32, numpy=29.91715>"
            ]
          },
          "metadata": {},
          "execution_count": 101
        }
      ]
    },
    {
      "cell_type": "code",
      "source": [
        "mse= tf.metrics.mean_squared_error(y_true= y_test, \n",
        "                                    y_pred=tf.squeeze(y_pred))\n",
        "mse"
      ],
      "metadata": {
        "colab": {
          "base_uri": "https://localhost:8080/"
        },
        "id": "Wzb-7rsvFuc8",
        "outputId": "1ccd7c9c-5be2-4585-a6c9-784fe4a59bdc"
      },
      "execution_count": 103,
      "outputs": [
        {
          "output_type": "execute_result",
          "data": {
            "text/plain": [
              "<tf.Tensor: shape=(), dtype=float32, numpy=926.44934>"
            ]
          },
          "metadata": {},
          "execution_count": 103
        }
      ]
    },
    {
      "cell_type": "code",
      "source": [
        "def mae(y_test, y_pred):\n",
        "  \"\"\"\n",
        "  Calculuates mean absolute error between y_test and y_preds.\n",
        "  \"\"\"\n",
        "  return tf.metrics.mean_absolute_error(y_test,\n",
        "                                        y_pred)\n",
        "  \n",
        "def mse(y_test, y_pred):\n",
        "  \"\"\"\n",
        "  Calculates mean squared error between y_test and y_preds.\n",
        "  \"\"\"\n",
        "  return tf.metrics.mean_squared_error(y_test,\n",
        "                                       y_pred)"
      ],
      "metadata": {
        "id": "hc28cVMrGyaS"
      },
      "execution_count": 104,
      "outputs": []
    },
    {
      "cell_type": "code",
      "source": [
        "\n",
        "# Set random seed\n",
        "tf.random.set_seed(42)\n",
        "\n",
        "# Replicate original model\n",
        "model_1 = tf.keras.Sequential([\n",
        "  tf.keras.layers.Dense(1)\n",
        "])\n",
        "\n",
        "# Compile the model\n",
        "model_1.compile(loss=tf.keras.losses.mae,\n",
        "                optimizer=tf.keras.optimizers.SGD(),\n",
        "                metrics=['mae'])\n",
        "\n",
        "# Fit the model\n",
        "model_1.fit(tf.expand_dims(X_train, axis=-1), y_train, epochs=100)"
      ],
      "metadata": {
        "colab": {
          "base_uri": "https://localhost:8080/"
        },
        "id": "GAyU_qTzKpY_",
        "outputId": "c0d4eb72-89bc-44c3-c634-31c747545cec"
      },
      "execution_count": 106,
      "outputs": [
        {
          "output_type": "stream",
          "name": "stdout",
          "text": [
            "Epoch 1/100\n",
            "2/2 [==============================] - 0s 13ms/step - loss: 46.9331 - mae: 46.9331\n",
            "Epoch 2/100\n",
            "2/2 [==============================] - 0s 12ms/step - loss: 15.6140 - mae: 15.6140\n",
            "Epoch 3/100\n",
            "2/2 [==============================] - 0s 10ms/step - loss: 14.9494 - mae: 14.9494\n",
            "Epoch 4/100\n",
            "2/2 [==============================] - 0s 8ms/step - loss: 8.1051 - mae: 8.1051\n",
            "Epoch 5/100\n",
            "2/2 [==============================] - 0s 14ms/step - loss: 10.7427 - mae: 10.7427\n",
            "Epoch 6/100\n",
            "2/2 [==============================] - 0s 8ms/step - loss: 9.9378 - mae: 9.9378\n",
            "Epoch 7/100\n",
            "2/2 [==============================] - 0s 9ms/step - loss: 8.9960 - mae: 8.9960\n",
            "Epoch 8/100\n",
            "2/2 [==============================] - 0s 9ms/step - loss: 9.0897 - mae: 9.0897\n",
            "Epoch 9/100\n",
            "2/2 [==============================] - 0s 10ms/step - loss: 19.7983 - mae: 19.7983\n",
            "Epoch 10/100\n",
            "2/2 [==============================] - 0s 12ms/step - loss: 10.7036 - mae: 10.7036\n",
            "Epoch 11/100\n",
            "2/2 [==============================] - 0s 7ms/step - loss: 8.6339 - mae: 8.6339\n",
            "Epoch 12/100\n",
            "2/2 [==============================] - 0s 8ms/step - loss: 9.6238 - mae: 9.6238\n",
            "Epoch 13/100\n",
            "2/2 [==============================] - 0s 8ms/step - loss: 12.8966 - mae: 12.8966\n",
            "Epoch 14/100\n",
            "2/2 [==============================] - 0s 8ms/step - loss: 14.2898 - mae: 14.2898\n",
            "Epoch 15/100\n",
            "2/2 [==============================] - 0s 9ms/step - loss: 11.6984 - mae: 11.6984\n",
            "Epoch 16/100\n",
            "2/2 [==============================] - 0s 9ms/step - loss: 8.4659 - mae: 8.4659\n",
            "Epoch 17/100\n",
            "2/2 [==============================] - 0s 14ms/step - loss: 13.4524 - mae: 13.4524\n",
            "Epoch 18/100\n",
            "2/2 [==============================] - 0s 13ms/step - loss: 11.2321 - mae: 11.2321\n",
            "Epoch 19/100\n",
            "2/2 [==============================] - 0s 10ms/step - loss: 18.3123 - mae: 18.3123\n",
            "Epoch 20/100\n",
            "2/2 [==============================] - 0s 9ms/step - loss: 15.0185 - mae: 15.0185\n",
            "Epoch 21/100\n",
            "2/2 [==============================] - 0s 9ms/step - loss: 10.8903 - mae: 10.8903\n",
            "Epoch 22/100\n",
            "2/2 [==============================] - 0s 8ms/step - loss: 8.6458 - mae: 8.6458\n",
            "Epoch 23/100\n",
            "2/2 [==============================] - 0s 8ms/step - loss: 9.6933 - mae: 9.6933\n",
            "Epoch 24/100\n",
            "2/2 [==============================] - 0s 7ms/step - loss: 8.5911 - mae: 8.5911\n",
            "Epoch 25/100\n",
            "2/2 [==============================] - 0s 8ms/step - loss: 11.5948 - mae: 11.5948\n",
            "Epoch 26/100\n",
            "2/2 [==============================] - 0s 8ms/step - loss: 15.1548 - mae: 15.1548\n",
            "Epoch 27/100\n",
            "2/2 [==============================] - 0s 8ms/step - loss: 12.0462 - mae: 12.0462\n",
            "Epoch 28/100\n",
            "2/2 [==============================] - 0s 9ms/step - loss: 13.3355 - mae: 13.3355\n",
            "Epoch 29/100\n",
            "2/2 [==============================] - 0s 7ms/step - loss: 9.6066 - mae: 9.6066\n",
            "Epoch 30/100\n",
            "2/2 [==============================] - 0s 8ms/step - loss: 17.1074 - mae: 17.1074\n",
            "Epoch 31/100\n",
            "2/2 [==============================] - 0s 10ms/step - loss: 22.9545 - mae: 22.9545\n",
            "Epoch 32/100\n",
            "2/2 [==============================] - 0s 8ms/step - loss: 7.5618 - mae: 7.5618\n",
            "Epoch 33/100\n",
            "2/2 [==============================] - 0s 8ms/step - loss: 15.4448 - mae: 15.4448\n",
            "Epoch 34/100\n",
            "2/2 [==============================] - 0s 7ms/step - loss: 13.3746 - mae: 13.3746\n",
            "Epoch 35/100\n",
            "2/2 [==============================] - 0s 7ms/step - loss: 7.9872 - mae: 7.9872\n",
            "Epoch 36/100\n",
            "2/2 [==============================] - 0s 8ms/step - loss: 9.9902 - mae: 9.9902\n",
            "Epoch 37/100\n",
            "2/2 [==============================] - 0s 7ms/step - loss: 9.7408 - mae: 9.7408\n",
            "Epoch 38/100\n",
            "2/2 [==============================] - 0s 8ms/step - loss: 10.6052 - mae: 10.6052\n",
            "Epoch 39/100\n",
            "2/2 [==============================] - 0s 8ms/step - loss: 15.6874 - mae: 15.6874\n",
            "Epoch 40/100\n",
            "2/2 [==============================] - 0s 8ms/step - loss: 13.4367 - mae: 13.4367\n",
            "Epoch 41/100\n",
            "2/2 [==============================] - 0s 8ms/step - loss: 9.2965 - mae: 9.2965\n",
            "Epoch 42/100\n",
            "2/2 [==============================] - 0s 8ms/step - loss: 11.0049 - mae: 11.0049\n",
            "Epoch 43/100\n",
            "2/2 [==============================] - 0s 8ms/step - loss: 8.3419 - mae: 8.3419\n",
            "Epoch 44/100\n",
            "2/2 [==============================] - 0s 8ms/step - loss: 13.0399 - mae: 13.0399\n",
            "Epoch 45/100\n",
            "2/2 [==============================] - 0s 9ms/step - loss: 13.6969 - mae: 13.6969\n",
            "Epoch 46/100\n",
            "2/2 [==============================] - 0s 8ms/step - loss: 8.4051 - mae: 8.4051\n",
            "Epoch 47/100\n",
            "2/2 [==============================] - 0s 8ms/step - loss: 9.1934 - mae: 9.1934\n",
            "Epoch 48/100\n",
            "2/2 [==============================] - 0s 8ms/step - loss: 10.7044 - mae: 10.7044\n",
            "Epoch 49/100\n",
            "2/2 [==============================] - 0s 8ms/step - loss: 7.8038 - mae: 7.8038\n",
            "Epoch 50/100\n",
            "2/2 [==============================] - 0s 8ms/step - loss: 9.6193 - mae: 9.6193\n",
            "Epoch 51/100\n",
            "2/2 [==============================] - 0s 8ms/step - loss: 9.1838 - mae: 9.1838\n",
            "Epoch 52/100\n",
            "2/2 [==============================] - 0s 8ms/step - loss: 16.5151 - mae: 16.5151\n",
            "Epoch 53/100\n",
            "2/2 [==============================] - 0s 9ms/step - loss: 14.0723 - mae: 14.0723\n",
            "Epoch 54/100\n",
            "2/2 [==============================] - 0s 9ms/step - loss: 20.9645 - mae: 20.9645\n",
            "Epoch 55/100\n",
            "2/2 [==============================] - 0s 10ms/step - loss: 16.5361 - mae: 16.5361\n",
            "Epoch 56/100\n",
            "2/2 [==============================] - 0s 10ms/step - loss: 9.8452 - mae: 9.8452\n",
            "Epoch 57/100\n",
            "2/2 [==============================] - 0s 8ms/step - loss: 9.6861 - mae: 9.6861\n",
            "Epoch 58/100\n",
            "2/2 [==============================] - 0s 11ms/step - loss: 9.0004 - mae: 9.0004\n",
            "Epoch 59/100\n",
            "2/2 [==============================] - 0s 10ms/step - loss: 10.2194 - mae: 10.2194\n",
            "Epoch 60/100\n",
            "2/2 [==============================] - 0s 9ms/step - loss: 8.4136 - mae: 8.4136\n",
            "Epoch 61/100\n",
            "2/2 [==============================] - 0s 9ms/step - loss: 9.2431 - mae: 9.2431\n",
            "Epoch 62/100\n",
            "2/2 [==============================] - 0s 9ms/step - loss: 7.2885 - mae: 7.2885\n",
            "Epoch 63/100\n",
            "2/2 [==============================] - 0s 9ms/step - loss: 8.1933 - mae: 8.1933\n",
            "Epoch 64/100\n",
            "2/2 [==============================] - 0s 9ms/step - loss: 12.5607 - mae: 12.5607\n",
            "Epoch 65/100\n",
            "2/2 [==============================] - 0s 11ms/step - loss: 10.6461 - mae: 10.6461\n",
            "Epoch 66/100\n",
            "2/2 [==============================] - 0s 13ms/step - loss: 15.4623 - mae: 15.4623\n",
            "Epoch 67/100\n",
            "2/2 [==============================] - 0s 13ms/step - loss: 9.9093 - mae: 9.9093\n",
            "Epoch 68/100\n",
            "2/2 [==============================] - 0s 10ms/step - loss: 8.6866 - mae: 8.6866\n",
            "Epoch 69/100\n",
            "2/2 [==============================] - 0s 12ms/step - loss: 13.3372 - mae: 13.3372\n",
            "Epoch 70/100\n",
            "2/2 [==============================] - 0s 10ms/step - loss: 7.8692 - mae: 7.8692\n",
            "Epoch 71/100\n",
            "2/2 [==============================] - 0s 9ms/step - loss: 11.3684 - mae: 11.3684\n",
            "Epoch 72/100\n",
            "2/2 [==============================] - 0s 6ms/step - loss: 9.5621 - mae: 9.5621\n",
            "Epoch 73/100\n",
            "2/2 [==============================] - 0s 8ms/step - loss: 11.6608 - mae: 11.6608\n",
            "Epoch 74/100\n",
            "2/2 [==============================] - 0s 8ms/step - loss: 10.7716 - mae: 10.7716\n",
            "Epoch 75/100\n",
            "2/2 [==============================] - 0s 10ms/step - loss: 9.5592 - mae: 9.5592\n",
            "Epoch 76/100\n",
            "2/2 [==============================] - 0s 8ms/step - loss: 11.0068 - mae: 11.0068\n",
            "Epoch 77/100\n",
            "2/2 [==============================] - 0s 8ms/step - loss: 11.0704 - mae: 11.0704\n",
            "Epoch 78/100\n",
            "2/2 [==============================] - 0s 8ms/step - loss: 11.6028 - mae: 11.6028\n",
            "Epoch 79/100\n",
            "2/2 [==============================] - 0s 8ms/step - loss: 15.6664 - mae: 15.6664\n",
            "Epoch 80/100\n",
            "2/2 [==============================] - 0s 8ms/step - loss: 11.5683 - mae: 11.5683\n",
            "Epoch 81/100\n",
            "2/2 [==============================] - 0s 8ms/step - loss: 9.5225 - mae: 9.5225\n",
            "Epoch 82/100\n",
            "2/2 [==============================] - 0s 8ms/step - loss: 12.5542 - mae: 12.5542\n",
            "Epoch 83/100\n",
            "2/2 [==============================] - 0s 11ms/step - loss: 8.1628 - mae: 8.1628\n",
            "Epoch 84/100\n",
            "2/2 [==============================] - 0s 10ms/step - loss: 7.5666 - mae: 7.5666\n",
            "Epoch 85/100\n",
            "2/2 [==============================] - 0s 9ms/step - loss: 9.7629 - mae: 9.7629\n",
            "Epoch 86/100\n",
            "2/2 [==============================] - 0s 8ms/step - loss: 9.0646 - mae: 9.0646\n",
            "Epoch 87/100\n",
            "2/2 [==============================] - 0s 8ms/step - loss: 11.7067 - mae: 11.7067\n",
            "Epoch 88/100\n",
            "2/2 [==============================] - 0s 8ms/step - loss: 10.3082 - mae: 10.3082\n",
            "Epoch 89/100\n",
            "2/2 [==============================] - 0s 9ms/step - loss: 6.7608 - mae: 6.7608\n",
            "Epoch 90/100\n",
            "2/2 [==============================] - 0s 8ms/step - loss: 8.1364 - mae: 8.1364\n",
            "Epoch 91/100\n",
            "2/2 [==============================] - 0s 9ms/step - loss: 6.9091 - mae: 6.9091\n",
            "Epoch 92/100\n",
            "2/2 [==============================] - 0s 9ms/step - loss: 9.0083 - mae: 9.0083\n",
            "Epoch 93/100\n",
            "2/2 [==============================] - 0s 8ms/step - loss: 7.5027 - mae: 7.5027\n",
            "Epoch 94/100\n",
            "2/2 [==============================] - 0s 9ms/step - loss: 9.1214 - mae: 9.1214\n",
            "Epoch 95/100\n",
            "2/2 [==============================] - 0s 9ms/step - loss: 10.5811 - mae: 10.5811\n",
            "Epoch 96/100\n",
            "2/2 [==============================] - 0s 9ms/step - loss: 10.5972 - mae: 10.5972\n",
            "Epoch 97/100\n",
            "2/2 [==============================] - 0s 8ms/step - loss: 7.0118 - mae: 7.0118\n",
            "Epoch 98/100\n",
            "2/2 [==============================] - 0s 10ms/step - loss: 9.1563 - mae: 9.1563\n",
            "Epoch 99/100\n",
            "2/2 [==============================] - 0s 10ms/step - loss: 8.9603 - mae: 8.9603\n",
            "Epoch 100/100\n",
            "2/2 [==============================] - 0s 8ms/step - loss: 13.0879 - mae: 13.0879\n"
          ]
        },
        {
          "output_type": "execute_result",
          "data": {
            "text/plain": [
              "<keras.callbacks.History at 0x7f89e08b9460>"
            ]
          },
          "metadata": {},
          "execution_count": 106
        }
      ]
    },
    {
      "cell_type": "code",
      "source": [
        "\n",
        "# Make and plot predictions for model_1\n",
        "y_preds_1 = model_1.predict(X_test)\n",
        "plot_predictions(predictions=y_preds_1)"
      ],
      "metadata": {
        "colab": {
          "base_uri": "https://localhost:8080/",
          "height": 616
        },
        "id": "p7bnsA6bKUda",
        "outputId": "c0896db6-bb2f-4206-dda6-7923284c9530"
      },
      "execution_count": 107,
      "outputs": [
        {
          "output_type": "stream",
          "name": "stdout",
          "text": [
            "1/1 [==============================] - 0s 216ms/step\n"
          ]
        },
        {
          "output_type": "display_data",
          "data": {
            "text/plain": [
              "<Figure size 1000x700 with 1 Axes>"
            ],
            "image/png": "[encoded data removed]"
          },
          "metadata": {}
        }
      ]
    },
    {
      "cell_type": "code",
      "source": [
        "# medel 2\n",
        "tf.random.set_seed(42)\n",
        "\n",
        "model_2 = tf.keras.Sequential([ \n",
        "    tf.keras.layers.Dense(10),\n",
        "    tf.keras.layers.Dense(1)\n",
        "])\n",
        "#compile\n",
        "model_2.compile(loss= tf.keras.losses.mae,\n",
        "               optimizer=tf.keras.optimizers.SGD(),\n",
        "               metrics=[\"mse\"])\n",
        "\n",
        "# Fit the model\n",
        "model_2.fit(tf.expand_dims(X_train, axis=-1), y_train, epochs=100)"
      ],
      "metadata": {
        "colab": {
          "base_uri": "https://localhost:8080/"
        },
        "id": "FbYC-Ew2KtS9",
        "outputId": "7f7e1197-59b8-4cc9-ff8f-38969db72076"
      },
      "execution_count": 114,
      "outputs": [
        {
          "output_type": "stream",
          "name": "stdout",
          "text": [
            "Epoch 1/100\n",
            "2/2 [==============================] - 1s 20ms/step - loss: 36.9186 - mse: 1973.0322\n",
            "Epoch 2/100\n",
            "2/2 [==============================] - 0s 11ms/step - loss: 29.0603 - mse: 1111.0647\n",
            "Epoch 3/100\n",
            "2/2 [==============================] - 0s 11ms/step - loss: 32.5248 - mse: 1621.7155\n",
            "Epoch 4/100\n",
            "2/2 [==============================] - 0s 10ms/step - loss: 17.4903 - mse: 428.5623\n",
            "Epoch 5/100\n",
            "2/2 [==============================] - 0s 9ms/step - loss: 23.6861 - mse: 828.6470\n",
            "Epoch 6/100\n",
            "2/2 [==============================] - 0s 8ms/step - loss: 10.6637 - mse: 127.3709\n",
            "Epoch 7/100\n",
            "2/2 [==============================] - 0s 8ms/step - loss: 11.7014 - mse: 168.2665\n",
            "Epoch 8/100\n",
            "2/2 [==============================] - 0s 8ms/step - loss: 12.1366 - mse: 200.7305\n",
            "Epoch 9/100\n",
            "2/2 [==============================] - 0s 9ms/step - loss: 38.0693 - mse: 2237.0032\n",
            "Epoch 10/100\n",
            "2/2 [==============================] - 0s 9ms/step - loss: 25.6466 - mse: 923.6312\n",
            "Epoch 11/100\n",
            "2/2 [==============================] - 0s 9ms/step - loss: 10.2669 - mse: 148.7908\n",
            "Epoch 12/100\n",
            "2/2 [==============================] - 0s 9ms/step - loss: 25.3290 - mse: 894.2844\n",
            "Epoch 13/100\n",
            "2/2 [==============================] - 0s 10ms/step - loss: 17.0593 - mse: 403.8579\n",
            "Epoch 14/100\n",
            "2/2 [==============================] - 0s 9ms/step - loss: 26.0373 - mse: 1059.9867\n",
            "Epoch 15/100\n",
            "2/2 [==============================] - 0s 11ms/step - loss: 18.0911 - mse: 455.0167\n",
            "Epoch 16/100\n",
            "2/2 [==============================] - 0s 13ms/step - loss: 7.8706 - mse: 90.1344\n",
            "Epoch 17/100\n",
            "2/2 [==============================] - 0s 10ms/step - loss: 22.1993 - mse: 682.5710\n",
            "Epoch 18/100\n",
            "2/2 [==============================] - 0s 10ms/step - loss: 10.8284 - mse: 171.1164\n",
            "Epoch 19/100\n",
            "2/2 [==============================] - 0s 10ms/step - loss: 10.7143 - mse: 138.8389\n",
            "Epoch 20/100\n",
            "2/2 [==============================] - 0s 8ms/step - loss: 12.0349 - mse: 164.9303\n",
            "Epoch 21/100\n",
            "2/2 [==============================] - 0s 9ms/step - loss: 20.1013 - mse: 586.2498\n",
            "Epoch 22/100\n",
            "2/2 [==============================] - 0s 9ms/step - loss: 13.7676 - mse: 241.8695\n",
            "Epoch 23/100\n",
            "2/2 [==============================] - 0s 9ms/step - loss: 9.5286 - mse: 94.7978\n",
            "Epoch 24/100\n",
            "2/2 [==============================] - 0s 10ms/step - loss: 11.8831 - mse: 163.5447\n",
            "Epoch 25/100\n",
            "2/2 [==============================] - 0s 10ms/step - loss: 16.1543 - mse: 382.1578\n",
            "Epoch 26/100\n",
            "2/2 [==============================] - 0s 9ms/step - loss: 16.3505 - mse: 371.7414\n",
            "Epoch 27/100\n",
            "2/2 [==============================] - 0s 11ms/step - loss: 11.5793 - mse: 179.9659\n",
            "Epoch 28/100\n",
            "2/2 [==============================] - 0s 9ms/step - loss: 29.8668 - mse: 1453.9666\n",
            "Epoch 29/100\n",
            "2/2 [==============================] - 0s 10ms/step - loss: 9.2607 - mse: 92.9411\n",
            "Epoch 30/100\n",
            "2/2 [==============================] - 0s 9ms/step - loss: 30.4344 - mse: 1696.0219\n",
            "Epoch 31/100\n",
            "2/2 [==============================] - 0s 9ms/step - loss: 55.3130 - mse: 5487.7637\n",
            "Epoch 32/100\n",
            "2/2 [==============================] - 0s 9ms/step - loss: 9.7161 - mse: 103.1452\n",
            "Epoch 33/100\n",
            "2/2 [==============================] - 0s 11ms/step - loss: 12.3302 - mse: 192.7893\n",
            "Epoch 34/100\n",
            "2/2 [==============================] - 0s 9ms/step - loss: 24.5823 - mse: 918.5451\n",
            "Epoch 35/100\n",
            "2/2 [==============================] - 0s 13ms/step - loss: 11.9411 - mse: 211.0379\n",
            "Epoch 36/100\n",
            "2/2 [==============================] - 0s 10ms/step - loss: 22.1511 - mse: 698.3680\n",
            "Epoch 37/100\n",
            "2/2 [==============================] - 0s 12ms/step - loss: 17.4849 - mse: 436.1292\n",
            "Epoch 38/100\n",
            "2/2 [==============================] - 0s 9ms/step - loss: 10.7076 - mse: 132.4611\n",
            "Epoch 39/100\n",
            "2/2 [==============================] - 0s 12ms/step - loss: 11.2238 - mse: 164.8355\n",
            "Epoch 40/100\n",
            "2/2 [==============================] - 0s 13ms/step - loss: 18.1233 - mse: 474.6999\n",
            "Epoch 41/100\n",
            "2/2 [==============================] - 0s 11ms/step - loss: 10.4595 - mse: 182.5029\n",
            "Epoch 42/100\n",
            "2/2 [==============================] - 0s 12ms/step - loss: 7.8447 - mse: 84.1184\n",
            "Epoch 43/100\n",
            "2/2 [==============================] - 0s 14ms/step - loss: 14.1569 - mse: 288.2197\n",
            "Epoch 44/100\n",
            "2/2 [==============================] - 0s 9ms/step - loss: 24.8327 - mse: 977.6930\n",
            "Epoch 45/100\n",
            "2/2 [==============================] - 0s 8ms/step - loss: 10.9260 - mse: 137.3196\n",
            "Epoch 46/100\n",
            "2/2 [==============================] - 0s 9ms/step - loss: 12.9846 - mse: 240.0923\n",
            "Epoch 47/100\n",
            "2/2 [==============================] - 0s 9ms/step - loss: 10.4666 - mse: 172.2148\n",
            "Epoch 48/100\n",
            "2/2 [==============================] - 0s 8ms/step - loss: 17.2069 - mse: 401.4224\n",
            "Epoch 49/100\n",
            "2/2 [==============================] - 0s 9ms/step - loss: 9.6023 - mse: 100.4662\n",
            "Epoch 50/100\n",
            "2/2 [==============================] - 0s 8ms/step - loss: 13.8622 - mse: 262.5273\n",
            "Epoch 51/100\n",
            "2/2 [==============================] - 0s 8ms/step - loss: 11.6184 - mse: 155.5465\n",
            "Epoch 52/100\n",
            "2/2 [==============================] - 0s 13ms/step - loss: 30.6260 - mse: 1621.7230\n",
            "Epoch 53/100\n",
            "2/2 [==============================] - 0s 11ms/step - loss: 14.3904 - mse: 304.2513\n",
            "Epoch 54/100\n",
            "2/2 [==============================] - 0s 8ms/step - loss: 24.0279 - mse: 864.0277\n",
            "Epoch 55/100\n",
            "2/2 [==============================] - 0s 7ms/step - loss: 23.2577 - mse: 810.2924\n",
            "Epoch 56/100\n",
            "2/2 [==============================] - 0s 8ms/step - loss: 10.9139 - mse: 171.1594\n",
            "Epoch 57/100\n",
            "2/2 [==============================] - 0s 9ms/step - loss: 12.7803 - mse: 199.9176\n",
            "Epoch 58/100\n",
            "2/2 [==============================] - 0s 10ms/step - loss: 9.6229 - mse: 102.9559\n",
            "Epoch 59/100\n",
            "2/2 [==============================] - 0s 8ms/step - loss: 12.5471 - mse: 217.7977\n",
            "Epoch 60/100\n",
            "2/2 [==============================] - 0s 8ms/step - loss: 12.3480 - mse: 209.7975\n",
            "Epoch 61/100\n",
            "2/2 [==============================] - 0s 7ms/step - loss: 13.2453 - mse: 229.2543\n",
            "Epoch 62/100\n",
            "2/2 [==============================] - 0s 8ms/step - loss: 17.0662 - mse: 443.4868\n",
            "Epoch 63/100\n",
            "2/2 [==============================] - 0s 9ms/step - loss: 9.0630 - mse: 87.6239\n",
            "Epoch 64/100\n",
            "2/2 [==============================] - 0s 8ms/step - loss: 17.7106 - mse: 454.4419\n",
            "Epoch 65/100\n",
            "2/2 [==============================] - 0s 8ms/step - loss: 10.5346 - mse: 133.8003\n",
            "Epoch 66/100\n",
            "2/2 [==============================] - 0s 9ms/step - loss: 21.1860 - mse: 661.8795\n",
            "Epoch 67/100\n",
            "2/2 [==============================] - 0s 11ms/step - loss: 10.5277 - mse: 129.0491\n",
            "Epoch 68/100\n",
            "2/2 [==============================] - 0s 12ms/step - loss: 14.3557 - mse: 310.6046\n",
            "Epoch 69/100\n",
            "2/2 [==============================] - 0s 11ms/step - loss: 10.6140 - mse: 129.0791\n",
            "Epoch 70/100\n",
            "2/2 [==============================] - 0s 11ms/step - loss: 12.6971 - mse: 204.7794\n",
            "Epoch 71/100\n",
            "2/2 [==============================] - 0s 11ms/step - loss: 13.1233 - mse: 231.7478\n",
            "Epoch 72/100\n",
            "2/2 [==============================] - 0s 8ms/step - loss: 19.5940 - mse: 545.0516\n",
            "Epoch 73/100\n",
            "2/2 [==============================] - 0s 11ms/step - loss: 11.1960 - mse: 191.8295\n",
            "Epoch 74/100\n",
            "2/2 [==============================] - 0s 8ms/step - loss: 21.8608 - mse: 743.7740\n",
            "Epoch 75/100\n",
            "2/2 [==============================] - 0s 9ms/step - loss: 7.2104 - mse: 71.6488\n",
            "Epoch 76/100\n",
            "2/2 [==============================] - 0s 8ms/step - loss: 9.4307 - mse: 149.7722\n",
            "Epoch 77/100\n",
            "2/2 [==============================] - 0s 8ms/step - loss: 22.0737 - mse: 728.1232\n",
            "Epoch 78/100\n",
            "2/2 [==============================] - 0s 9ms/step - loss: 17.6542 - mse: 473.5339\n",
            "Epoch 79/100\n",
            "2/2 [==============================] - 0s 10ms/step - loss: 14.8363 - mse: 322.1773\n",
            "Epoch 80/100\n",
            "2/2 [==============================] - 0s 8ms/step - loss: 25.1214 - mse: 962.8068\n",
            "Epoch 81/100\n",
            "2/2 [==============================] - 0s 11ms/step - loss: 10.9111 - mse: 140.6553\n",
            "Epoch 82/100\n",
            "2/2 [==============================] - 0s 10ms/step - loss: 12.7635 - mse: 232.6320\n",
            "Epoch 83/100\n",
            "2/2 [==============================] - 0s 14ms/step - loss: 17.5423 - mse: 401.2200\n",
            "Epoch 84/100\n",
            "2/2 [==============================] - 0s 12ms/step - loss: 7.2992 - mse: 73.3368\n",
            "Epoch 85/100\n",
            "2/2 [==============================] - 0s 8ms/step - loss: 15.0603 - mse: 316.5356\n",
            "Epoch 86/100\n",
            "2/2 [==============================] - 0s 9ms/step - loss: 15.3640 - mse: 317.4688\n",
            "Epoch 87/100\n",
            "2/2 [==============================] - 0s 8ms/step - loss: 19.2587 - mse: 528.1012\n",
            "Epoch 88/100\n",
            "2/2 [==============================] - 0s 11ms/step - loss: 29.4349 - mse: 1251.6006\n",
            "Epoch 89/100\n",
            "2/2 [==============================] - 0s 11ms/step - loss: 10.1322 - mse: 124.3398\n",
            "Epoch 90/100\n",
            "2/2 [==============================] - 0s 9ms/step - loss: 21.2012 - mse: 643.6926\n",
            "Epoch 91/100\n",
            "2/2 [==============================] - 0s 8ms/step - loss: 10.5075 - mse: 163.4334\n",
            "Epoch 92/100\n",
            "2/2 [==============================] - 0s 10ms/step - loss: 18.1053 - mse: 448.6893\n",
            "Epoch 93/100\n",
            "2/2 [==============================] - 0s 10ms/step - loss: 6.5564 - mse: 61.0015\n",
            "Epoch 94/100\n",
            "2/2 [==============================] - 0s 9ms/step - loss: 11.1634 - mse: 154.8170\n",
            "Epoch 95/100\n",
            "2/2 [==============================] - 0s 11ms/step - loss: 24.5228 - mse: 902.9127\n",
            "Epoch 96/100\n",
            "2/2 [==============================] - 0s 11ms/step - loss: 10.7718 - mse: 172.1720\n",
            "Epoch 97/100\n",
            "2/2 [==============================] - 0s 9ms/step - loss: 15.4605 - mse: 362.5232\n",
            "Epoch 98/100\n",
            "2/2 [==============================] - 0s 16ms/step - loss: 9.0387 - mse: 144.2367\n",
            "Epoch 99/100\n",
            "2/2 [==============================] - 0s 10ms/step - loss: 10.8597 - mse: 138.3137\n",
            "Epoch 100/100\n",
            "2/2 [==============================] - 0s 11ms/step - loss: 27.0314 - mse: 1113.8722\n"
          ]
        },
        {
          "output_type": "execute_result",
          "data": {
            "text/plain": [
              "<keras.callbacks.History at 0x7f89e05ae850>"
            ]
          },
          "metadata": {},
          "execution_count": 114
        }
      ]
    },
    {
      "cell_type": "code",
      "source": [
        "# Make and plot predictions for model_2\n",
        "y_preds_2 = model_2.predict(X_test)\n",
        "plot_predictions(predictions=y_preds_2)"
      ],
      "metadata": {
        "colab": {
          "base_uri": "https://localhost:8080/",
          "height": 616
        },
        "id": "SeB5QhR3LvkC",
        "outputId": "41b72561-d763-40dc-9422-363bfe699e67"
      },
      "execution_count": 115,
      "outputs": [
        {
          "output_type": "stream",
          "name": "stdout",
          "text": [
            "1/1 [==============================] - 0s 65ms/step\n"
          ]
        },
        {
          "output_type": "display_data",
          "data": {
            "text/plain": [
              "<Figure size 1000x700 with 1 Axes>"
            ],
            "image/png": "[encoded data removed]"
          },
          "metadata": {}
        }
      ]
    },
    {
      "cell_type": "code",
      "source": [
        "\n",
        "# Calculate model_2 metrics\n",
        "mae_2 = mae(y_test, y_preds_2.squeeze()).numpy()\n",
        "mse_2 = mse(y_test, y_preds_2.squeeze()).numpy()\n",
        "mae_2, mse_2"
      ],
      "metadata": {
        "colab": {
          "base_uri": "https://localhost:8080/"
        },
        "id": "Bsx8qlHGMOg2",
        "outputId": "780ca75c-75ed-4a87-8f00-409f7068c3f8"
      },
      "execution_count": 116,
      "outputs": [
        {
          "output_type": "execute_result",
          "data": {
            "text/plain": [
              "(9.947441, 106.151955)"
            ]
          },
          "metadata": {},
          "execution_count": 116
        }
      ]
    },
    {
      "cell_type": "code",
      "source": [
        "#saving model\n",
        "\n",
        "# Save a model using the SavedModel format\n",
        "model_2.save('best_model_SavedModel_format')"
      ],
      "metadata": {
        "colab": {
          "base_uri": "https://localhost:8080/"
        },
        "id": "RXzHRxZ_MSoO",
        "outputId": "922d1724-b207-4d17-d803-6b109148c673"
      },
      "execution_count": 117,
      "outputs": [
        {
          "output_type": "stream",
          "name": "stderr",
          "text": [
            "WARNING:absl:Found untraced functions such as _update_step_xla while saving (showing 1 of 1). These functions will not be directly callable after loading.\n"
          ]
        }
      ]
    },
    {
      "cell_type": "code",
      "source": [
        "# Check it out - outputs a protobuf binary file (.pb) as well as other files\n",
        "!ls best_model_SavedModel_format"
      ],
      "metadata": {
        "colab": {
          "base_uri": "https://localhost:8080/"
        },
        "id": "wWaERQefT7vt",
        "outputId": "2474647e-8c82-4cc5-919b-e00c52b9554a"
      },
      "execution_count": 118,
      "outputs": [
        {
          "output_type": "stream",
          "name": "stdout",
          "text": [
            "assets\tfingerprint.pb\tkeras_metadata.pb  saved_model.pb  variables\n"
          ]
        }
      ]
    },
    {
      "cell_type": "code",
      "source": [
        "# Save a model using the HDF5 format\n",
        "model_2.save(\"best_model_HDF5_format.h5\") # note the addition of '.h5' on the end\n",
        "     \n",
        "\n",
        "# Check it out\n",
        "!ls best_model_HDF5_format.h5"
      ],
      "metadata": {
        "colab": {
          "base_uri": "https://localhost:8080/"
        },
        "id": "3mJYlsriT_jY",
        "outputId": "94c721d4-ce34-464f-fccf-bfd744147ad6"
      },
      "execution_count": 119,
      "outputs": [
        {
          "output_type": "stream",
          "name": "stdout",
          "text": [
            "best_model_HDF5_format.h5\n"
          ]
        }
      ]
    },
    {
      "cell_type": "code",
      "source": [
        "# Load a model from the SavedModel format\n",
        "loaded_saved_model = tf.keras.models.load_model(\"best_model_SavedModel_format\")\n",
        "loaded_saved_model.summary()"
      ],
      "metadata": {
        "colab": {
          "base_uri": "https://localhost:8080/"
        },
        "id": "qhlTx00UUCVy",
        "outputId": "fcf4163e-0f8e-43fd-81aa-4c62d02fb07b"
      },
      "execution_count": 120,
      "outputs": [
        {
          "output_type": "stream",
          "name": "stdout",
          "text": [
            "Model: \"sequential_15\"\n",
            "_________________________________________________________________\n",
            " Layer (type)                Output Shape              Param #   \n",
            "=================================================================\n",
            " dense_20 (Dense)            (None, 10)                20        \n",
            "                                                                 \n",
            " dense_21 (Dense)            (None, 1)                 11        \n",
            "                                                                 \n",
            "=================================================================\n",
            "Total params: 31\n",
            "Trainable params: 31\n",
            "Non-trainable params: 0\n",
            "_________________________________________________________________\n"
          ]
        }
      ]
    }
  ]
}